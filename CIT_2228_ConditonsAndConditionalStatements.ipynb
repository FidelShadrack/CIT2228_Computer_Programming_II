{
  "nbformat": 4,
  "nbformat_minor": 0,
  "metadata": {
    "colab": {
      "provenance": [],
      "authorship_tag": "ABX9TyP1tkRT+0B8ZtpJmiSYuVTQ",
      "include_colab_link": true
    },
    "kernelspec": {
      "name": "python3",
      "display_name": "Python 3"
    },
    "language_info": {
      "name": "python"
    }
  },
  "cells": [
    {
      "cell_type": "markdown",
      "metadata": {
        "id": "view-in-github",
        "colab_type": "text"
      },
      "source": [
        "<a href=\"https://colab.research.google.com/github/Wachiyem/CIT2228_Computer_Programming_II/blob/main/CIT_2228_ConditonsAndConditionalStatements.ipynb\" target=\"_parent\"><img src=\"https://colab.research.google.com/assets/colab-badge.svg\" alt=\"Open In Colab\"/></a>"
      ]
    },
    {
      "cell_type": "markdown",
      "source": [
        "# Conditions and Conditional Statements\n",
        "\n",
        "## Conditions\n",
        "\n",
        "Can be `True` or `False`\n",
        "\n",
        "\n",
        "Source: Kaggle's Introduction to Programming"
      ],
      "metadata": {
        "id": "82DnUUBa8b62"
      }
    },
    {
      "cell_type": "code",
      "execution_count": 7,
      "metadata": {
        "colab": {
          "base_uri": "https://localhost:8080/"
        },
        "id": "2d4Bf8uu8JDz",
        "outputId": "f89f2271-0827-4997-fe16-33b20c96031b"
      },
      "outputs": [
        {
          "output_type": "stream",
          "name": "stdout",
          "text": [
            "True\n"
          ]
        }
      ],
      "source": [
        "print(2 < 3)"
      ]
    },
    {
      "cell_type": "code",
      "source": [
        "print(2 > 3)"
      ],
      "metadata": {
        "colab": {
          "base_uri": "https://localhost:8080/"
        },
        "id": "23rJm6be8r6_",
        "outputId": "4f8c2f80-6e89-4d50-c830-6db3199a77d0"
      },
      "execution_count": 8,
      "outputs": [
        {
          "output_type": "stream",
          "name": "stdout",
          "text": [
            "False\n"
          ]
        }
      ]
    },
    {
      "cell_type": "markdown",
      "source": [
        "You can also use conditions to compare the values of variables"
      ],
      "metadata": {
        "id": "mwCQW9939DmU"
      }
    },
    {
      "cell_type": "code",
      "source": [
        "var_one = 1\n",
        "var_two = 2\n",
        "print(var_one < var_two)\n",
        "print(var_one > 1)"
      ],
      "metadata": {
        "colab": {
          "base_uri": "https://localhost:8080/"
        },
        "id": "mJp_uRrr9Ez1",
        "outputId": "8a548ebb-3672-497b-c866-d3977c6d8106"
      },
      "execution_count": 9,
      "outputs": [
        {
          "output_type": "stream",
          "name": "stdout",
          "text": [
            "True\n",
            "False\n"
          ]
        }
      ]
    },
    {
      "cell_type": "markdown",
      "source": [
        "For a list of common symbols you can use to construct conditions, check out the chart below.\n",
        "\n",
        "`==` equals to\n",
        "\n",
        "`!=` not equal to\n",
        "\n",
        "`>` greater than\n",
        "\n",
        "`>=` greater than or equals to\n",
        "\n",
        "`<` less than\n",
        "\n",
        "`<=` less than or equals to"
      ],
      "metadata": {
        "id": "h8fpE4Yq9wY1"
      }
    },
    {
      "cell_type": "code",
      "source": [
        "print(var_one == 1)"
      ],
      "metadata": {
        "colab": {
          "base_uri": "https://localhost:8080/"
        },
        "id": "_2uFsoTq-F4u",
        "outputId": "e3250ced-92ec-4437-b03e-62506652c66c"
      },
      "execution_count": 10,
      "outputs": [
        {
          "output_type": "stream",
          "name": "stdout",
          "text": [
            "True\n"
          ]
        }
      ]
    },
    {
      "cell_type": "code",
      "source": [
        "#print(var_one = 1) # Note that this will give an error since `=` is an\n",
        "                  # assignmment operator"
      ],
      "metadata": {
        "id": "JuW2R5eY-gO2"
      },
      "execution_count": 11,
      "outputs": []
    },
    {
      "cell_type": "markdown",
      "source": [
        "## Conditional Statements\n",
        "\n",
        "We shall look at three of them:\n",
        "1. `if` statements\n",
        "2. `if ... else` statements\n",
        "3. `if ... elif ... else` statementsa\n",
        "\n",
        "Conditional statements use conditions to modify how your function runs. They check the value of a condition, and if the condition evaluates to `True`, then a certain block of code is executed. (Otherwise, if the condition is `False`, then the code is not run.)\n",
        "\n",
        "You will see several examples of this in the following sections."
      ],
      "metadata": {
        "id": "R6bN_WrM-zIG"
      }
    },
    {
      "cell_type": "markdown",
      "source": [
        "### `if` statements¶\n",
        "The simplest type of conditional statement is an \"if\" statement. You can see an example of this in the evaluate_temp() function below. The function accepts a body temperature (in Celcius) as input.\n",
        "\n",
        "Initially, message is set to \"Normal temperature\".\n",
        "Then, if temp > 38 is True (e.g., the body temperature is greater than 38°C), the message is updated to \"Fever!\". Otherwise, if temp > 38 is False, then the message is not updated.\n",
        "Finally, message is returned by the function."
      ],
      "metadata": {
        "id": "CLAIpCnHAHT7"
      }
    },
    {
      "cell_type": "code",
      "source": [
        "def evaluate_temp(temp):\n",
        "    # Set the intial message\n",
        "    message = \"Normal temperature.\"\n",
        "    # Update message only if temp > 38\n",
        "    if temp > 38:\n",
        "        message = \"Fever! Admit patient.\"\n",
        "    return message"
      ],
      "metadata": {
        "id": "UAba9Pk_BDBt"
      },
      "execution_count": 12,
      "outputs": []
    },
    {
      "cell_type": "code",
      "source": [
        "temp = float(input(\"Enter body temperature: \"))\n",
        "print(evaluate_temp(temp))"
      ],
      "metadata": {
        "colab": {
          "base_uri": "https://localhost:8080/"
        },
        "id": "BkC_I7Q0Bk9i",
        "outputId": "834b1314-2a6d-4110-db67-194c700390e0"
      },
      "execution_count": 13,
      "outputs": [
        {
          "output_type": "stream",
          "name": "stdout",
          "text": [
            "Enter body temperature: 56\n",
            "Fever! Admit patient.\n"
          ]
        }
      ]
    },
    {
      "cell_type": "markdown",
      "source": [
        "**Write a program that classifies students as `Fail` if they score below 50%. Set the initial score as `Pass`. Use function.**"
      ],
      "metadata": {
        "id": "2qcDVEGCCKdA"
      }
    },
    {
      "cell_type": "code",
      "source": [
        "def determine_grade(score):\n",
        "    # Initial grade\n",
        "    grade = \"Pass\"\n",
        "    # Update grade to fail is student score below 50\n",
        "    if score < 50:\n",
        "        grade = \"Fail\"\n",
        "    return grade\n",
        "\n"
      ],
      "metadata": {
        "id": "XPxEWMtmCj3c"
      },
      "execution_count": 14,
      "outputs": []
    },
    {
      "cell_type": "markdown",
      "source": [
        "Note that there are two levels of indentation:\n",
        "\n",
        "- The first level of indentation is because we always need to indent the code block inside a function.\n",
        "\n",
        "- The second level of indentation is because we also need to indent the code block belonging to the \"if\" statement. (As you'll see, we'll also need to indent the code blocks for \"elif\" and \"else\" statements.)"
      ],
      "metadata": {
        "id": "w6f51UVuIPV2"
      }
    },
    {
      "cell_type": "code",
      "source": [
        "marks = float(input(\"Enter student score:\"))\n",
        "print(determine_grade(marks))"
      ],
      "metadata": {
        "colab": {
          "base_uri": "https://localhost:8080/"
        },
        "id": "NoGdst-HGkyP",
        "outputId": "ae3cd6e6-4ad3-4d68-fc59-dd2ee61a32a3"
      },
      "execution_count": 15,
      "outputs": [
        {
          "output_type": "stream",
          "name": "stdout",
          "text": [
            "Enter student score:78\n",
            "Pass\n"
          ]
        }
      ]
    },
    {
      "cell_type": "markdown",
      "source": [
        "### `if ... else` statements\n",
        "\n",
        "We can use \"else\" statements to run code if a statement is False. The code under the \"if\" statement is run if the statement is `True`, and the code under \"else\" is run if the statement is `False`."
      ],
      "metadata": {
        "id": "HnZ3dvOPJBIo"
      }
    },
    {
      "cell_type": "code",
      "source": [
        "def evaluate_temp_with_else(temp):\n",
        "  if temp > 38:\n",
        "    message = \"Fever! Admit patient\"\n",
        "  else:\n",
        "    message = \"Normal temperature.\"\n",
        "  return message"
      ],
      "metadata": {
        "id": "Y7d9DwltJMVm"
      },
      "execution_count": 16,
      "outputs": []
    },
    {
      "cell_type": "code",
      "source": [
        "# Code to test the system\n",
        "temp = float(input(\"Enter body temperature: \"))\n",
        "print(evaluate_temp_with_else(temp))"
      ],
      "metadata": {
        "colab": {
          "base_uri": "https://localhost:8080/"
        },
        "id": "JXtswauCJ9Yp",
        "outputId": "c2df1500-7aac-4cbd-990d-f3f04a9ca04b"
      },
      "execution_count": 17,
      "outputs": [
        {
          "output_type": "stream",
          "name": "stdout",
          "text": [
            "Enter body temperature: 34\n",
            "Normal temperature.\n"
          ]
        }
      ]
    },
    {
      "cell_type": "markdown",
      "source": [
        "**Task:**\n",
        "\n",
        "Use the `if ... else` statement for our student grade task above. That is\n",
        "\n",
        "Pass : Grade >= 50\n",
        "\n",
        "Fail : Grade < 50\n",
        "\n",
        "Write a Python function."
      ],
      "metadata": {
        "id": "uLjMLNm2KysI"
      }
    },
    {
      "cell_type": "code",
      "source": [
        "def calculate_grade_with_else(score):\n",
        "  if score >= 50:\n",
        "    return \"Pass\"\n",
        "  else:\n",
        "    return \"Fail\"\n",
        "\n",
        "score = 30\n",
        "print(calculate_grade_with_else(score))"
      ],
      "metadata": {
        "colab": {
          "base_uri": "https://localhost:8080/"
        },
        "id": "SjbUB8yZLQqV",
        "outputId": "8a2fcee0-7138-4766-fe97-8ae5f480d87c"
      },
      "execution_count": 18,
      "outputs": [
        {
          "output_type": "stream",
          "name": "stdout",
          "text": [
            "Fail\n"
          ]
        }
      ]
    },
    {
      "cell_type": "markdown",
      "source": [
        "### `if ... elif ... else` statements\n",
        "\n",
        "We can use `elif` (which is short for \"else if\") to check if multiple conditions might be true. The function below:\n",
        "\n",
        "First checks if temp > 38. If this is true, then the message is set to \"Fever!\".\n",
        "As long as the message has not already been set, the function then checks if temp > 35. If this is true, then the message is set to \"Normal temperature.\".\n",
        "\n",
        "Then, if still no message has been set, the \"else\" statement ensures that the message is set to \"Low temperature.\" message is printed.\n",
        "\n",
        "You can think of \"elif\" as saying ... \"okay, that previous condition (e.g., temp > 38) was false, so let's check if this new condition (e.g., temp > 35) might be true!\""
      ],
      "metadata": {
        "id": "GYvN9MKNOjeP"
      }
    },
    {
      "cell_type": "code",
      "source": [
        "def evaluate_temp_with_elif(temp):\n",
        "  if temp > 38:\n",
        "    message = \"Fever! Admit patient\"\n",
        "  elif temp > 35:\n",
        "    message = \"Normal temperature.\"\n",
        "  else:\n",
        "    message = \"Low temperature.\"\n",
        "  return message"
      ],
      "metadata": {
        "id": "r4bP0O4fPIXs"
      },
      "execution_count": 19,
      "outputs": []
    },
    {
      "cell_type": "code",
      "source": [
        "temp = float(input(\"Enter body temperature: \"))\n",
        "print(evaluate_temp_with_elif(temp))"
      ],
      "metadata": {
        "colab": {
          "base_uri": "https://localhost:8080/"
        },
        "id": "F5FeslPqPTjd",
        "outputId": "cb2a58fb-f0f4-4953-8638-c9f45618c2b9"
      },
      "execution_count": 20,
      "outputs": [
        {
          "output_type": "stream",
          "name": "stdout",
          "text": [
            "Enter body temperature: 39\n",
            "Fever! Admit patient\n"
          ]
        }
      ]
    },
    {
      "cell_type": "markdown",
      "source": [
        "**Task 3**\n",
        "Source: Cambridge University [Exercise on Control Statements](https://colab.research.google.com/github/CambridgeEngineering/PartIA-Computing-Michaelmas/blob/main/Exercises/02%20Exercises.ipynb)\n",
        "\n",
        "#### Exercise 02.1 (if-else)\n",
        "\n",
        "Consider the following assessment criteria which map a score out of 100 to an\n",
        "assessment grade:\n",
        "\n",
        "| Grade            | Raw score  (/100)      |\n",
        "| ---------------- | ---------------------- |\n",
        "| Excellent        | $\\ge 85$               |\n",
        "| Very good        | $\\ge 76.5$ and $< 85$  |\n",
        "| Good             | $\\ge 64$ and $< 76.5$  |\n",
        "| Need improvement | $\\ge 40$ and $< 64$    |\n",
        "| Did you try?     | $< 40$                 |\n",
        "\n",
        "Write a program that, given an a score, prints the appropriate grade. Print an error message if the input score is greater than 100 or less than zero.\n"
      ],
      "metadata": {
        "id": "Xcc1YjwRP8qi"
      }
    },
    {
      "cell_type": "code",
      "source": [
        "# Write your code here\n",
        "\n"
      ],
      "metadata": {
        "id": "yFNDPdpCQom3"
      },
      "execution_count": 21,
      "outputs": []
    },
    {
      "cell_type": "markdown",
      "source": [
        "#### Example - Calculations\n",
        "In the examples so far, conditional statements were used to decide how to set the values of variables. But you can also use conditional statements to perform different calculations.\n",
        "\n",
        "In this next example, say you live in a country with only two tax brackets. Everyone earning less than 12,000 pays 25% in taxes, and anyone earning 12,000 or more pays 30%. The function below calculates how much tax is owed."
      ],
      "metadata": {
        "id": "rpmXNaJIS3bu"
      }
    },
    {
      "cell_type": "code",
      "source": [
        "def itax_calculator(income):\n",
        "  if income >= 12000:\n",
        "    tax = income * 0.30 # Tax is 30%\n",
        "  else:\n",
        "    tax = income * 0.25 # Tax is 25%\n",
        "  return tax\n",
        "\n",
        "income = int(input(\"Enter your income: \"))\n",
        "print(f\"You owe {itax_calculator(income)}\")"
      ],
      "metadata": {
        "colab": {
          "base_uri": "https://localhost:8080/"
        },
        "id": "QBZNc_LAS1na",
        "outputId": "1121cfee-1304-4e0e-92d1-55021bdb2a4d"
      },
      "execution_count": 22,
      "outputs": [
        {
          "output_type": "stream",
          "name": "stdout",
          "text": [
            "Enter your income: 15000\n",
            "You owe 4500.0\n"
          ]
        }
      ]
    },
    {
      "cell_type": "markdown",
      "source": [
        "#### Example - Multiple \"elif\" statements¶\n",
        "So far, you have seen \"elif\" used only once in a function. But there's no limit to the number of \"elif\" statements you can use. For instance, the next block of code calculates the dose of medication (in milliliters) to give to a child, based on weight (in kilograms).\n",
        "\n",
        "Note: This function should not be used as medical advice, and represents a fake medication."
      ],
      "metadata": {
        "id": "o-DKKhQpVILm"
      }
    },
    {
      "cell_type": "code",
      "source": [
        "def get_dose(weight):\n",
        "    # Dosage is 1.25 ml for anyone under 5.2 kg\n",
        "    if weight < 5.2:\n",
        "        dose = 1.25\n",
        "    elif weight < 7.9:\n",
        "        dose = 2.5\n",
        "    elif weight < 10.4:\n",
        "        dose = 3.75\n",
        "    elif weight < 15.9:\n",
        "        dose = 5\n",
        "    elif weight < 21.2:\n",
        "        dose = 7.5\n",
        "    # Dosage is 10 ml for anyone 21.2 kg or over\n",
        "    else:\n",
        "        dose = 10\n",
        "    return dose"
      ],
      "metadata": {
        "id": "sKTn9GshVULf"
      },
      "execution_count": 23,
      "outputs": []
    },
    {
      "cell_type": "code",
      "source": [
        "get_dose(10)"
      ],
      "metadata": {
        "colab": {
          "base_uri": "https://localhost:8080/"
        },
        "id": "cdenpnDFVnSr",
        "outputId": "1985b76e-a07c-40be-bcd0-0f80bf499372"
      },
      "execution_count": 24,
      "outputs": [
        {
          "output_type": "execute_result",
          "data": {
            "text/plain": [
              "3.75"
            ]
          },
          "metadata": {},
          "execution_count": 24
        }
      ]
    },
    {
      "cell_type": "markdown",
      "source": [
        "Assignment:\n",
        "\n",
        "[Kaggle's Introduction to Programming Course: Conditions and Conditional Statements](https://www.kaggle.com/code/wachiyem/exercise-conditions-and-conditional-statements/edit)"
      ],
      "metadata": {
        "id": "xosGMniyUr-V"
      }
    },
    {
      "cell_type": "markdown",
      "source": [
        "# Control Statements - `For` and `While` Loops"
      ],
      "metadata": {
        "id": "o7iW3K2cWheW"
      }
    }
  ]
}