{
  "nbformat": 4,
  "nbformat_minor": 0,
  "metadata": {
    "colab": {
      "provenance": [],
      "authorship_tag": "ABX9TyMyVMCCHH44mP8fKKJ+TP9/",
      "include_colab_link": true
    },
    "kernelspec": {
      "name": "python3",
      "display_name": "Python 3"
    },
    "language_info": {
      "name": "python"
    }
  },
  "cells": [
    {
      "cell_type": "markdown",
      "metadata": {
        "id": "view-in-github",
        "colab_type": "text"
      },
      "source": [
        "<a href=\"https://colab.research.google.com/github/Wachiyem/CIT2228_Computer_Programming_II/blob/main/CIT2228_Introduction.ipynb\" target=\"_parent\"><img src=\"https://colab.research.google.com/assets/colab-badge.svg\" alt=\"Open In Colab\"/></a>"
      ]
    },
    {
      "cell_type": "code",
      "execution_count": null,
      "metadata": {
        "colab": {
          "base_uri": "https://localhost:8080/"
        },
        "id": "yCyHHRyv7zGv",
        "outputId": "c222717f-23e6-4587-8d53-e5df0de72bca"
      },
      "outputs": [
        {
          "output_type": "execute_result",
          "data": {
            "text/plain": [
              "True"
            ]
          },
          "metadata": {},
          "execution_count": 1
        }
      ],
      "source": [
        "# Βoolean operators\n",
        "\n",
        "4 < 5"
      ]
    },
    {
      "cell_type": "code",
      "source": [
        "x = 3\n",
        "print(x)"
      ],
      "metadata": {
        "colab": {
          "base_uri": "https://localhost:8080/"
        },
        "id": "l_YLuKpT9rRS",
        "outputId": "549813c0-9882-45a2-fb3a-e95bb20f6fd0"
      },
      "execution_count": null,
      "outputs": [
        {
          "output_type": "stream",
          "name": "stdout",
          "text": [
            "3\n"
          ]
        }
      ]
    },
    {
      "cell_type": "code",
      "source": [
        "# Assignment can be en masses\n",
        "\n",
        "x = y = z = 1\n",
        "print(x, y, z)"
      ],
      "metadata": {
        "colab": {
          "base_uri": "https://localhost:8080/"
        },
        "id": "b3jT2rOt98Dt",
        "outputId": "579822f2-092e-4139-dd7d-b0f7e185a94b"
      },
      "execution_count": null,
      "outputs": [
        {
          "output_type": "stream",
          "name": "stdout",
          "text": [
            "1 1 1\n"
          ]
        }
      ]
    },
    {
      "cell_type": "code",
      "source": [
        "# Multiple Assignments can be done in one line\n",
        "\n",
        "x, y, z = 1, 2.31, 'cat'\n",
        "print(x, y, z)"
      ],
      "metadata": {
        "colab": {
          "base_uri": "https://localhost:8080/"
        },
        "id": "IXVE5M_Z-Gy7",
        "outputId": "87493c60-5ea4-4dcb-e06a-9bfee3eb05e6"
      },
      "execution_count": null,
      "outputs": [
        {
          "output_type": "stream",
          "name": "stdout",
          "text": [
            "1 2.31 cat\n"
          ]
        }
      ]
    },
    {
      "cell_type": "markdown",
      "source": [
        "## Variable names\n",
        "\n",
        "- Must always begin with a letter or an underscore\n",
        "- Other characters can be letters, numbers or _\n",
        "- Are case-sensitive maximum and Maximum (different variables)\n",
        "- Can be reasonable length\n",
        "\n",
        "## Data-types\n",
        "\n",
        "- `int` - integers. 1, 4, -6\n",
        "- `float` - floating point numbers. 1.2, 3.46, ...\n",
        "- `str` - strings. 'cat', 'mama', etc\n",
        "- `complex` - complex numbers. `x = complex(3,1)` or` x = 3 + 1j`\n",
        "- `bool` - Boolean. `True` & `False`\n",
        "- `lists`: `[1, 2, 3, 4]` or `['banana', 'mango']`\n",
        "- `dict`: dictionaries\n",
        "- `tuples`\n"
      ],
      "metadata": {
        "id": "_J8DYJjr-ZpC"
      }
    },
    {
      "cell_type": "code",
      "source": [
        "x = complex(3,1) + complex(4,2)\n",
        "print(x)\n",
        "y = 3 +1j + 4+2j\n",
        "print(y)"
      ],
      "metadata": {
        "colab": {
          "base_uri": "https://localhost:8080/"
        },
        "id": "cS9nx4pPAQcQ",
        "outputId": "0bb50e3f-066b-4805-d52a-423fcf235f06"
      },
      "execution_count": null,
      "outputs": [
        {
          "output_type": "stream",
          "name": "stdout",
          "text": [
            "(7+3j)\n",
            "(7+3j)\n"
          ]
        }
      ]
    },
    {
      "cell_type": "markdown",
      "source": [
        "## Variable modifying operators\n",
        "\n",
        "1. `x += y` $⇒$ Add the value `y` to `x`.\n",
        "Equivalent\n",
        "$ x = x + y$\n",
        "\n",
        "2. `x -= y` $\\Rightarrow$ Subtract the value of `y` from `x` $\\Rightarrow$ $ x = x - y$\n",
        "\n",
        "3. `x *= y` $\\Rightarrow$ Multipy the value of `y` by `x` $\\Rightarrow$ $ x = x \\times y$\n",
        "\n",
        "2. `x /= y` $\\Rightarrow$ Divide the value of `x` by `y` $\\Rightarrow$ $ x = x / y$"
      ],
      "metadata": {
        "id": "2ctd4pujAnZM"
      }
    },
    {
      "cell_type": "code",
      "source": [
        "x = 3\n",
        "y = 6\n",
        "\n",
        "x += y # Most commonly used\n",
        "\n",
        "print(x)\n",
        "\n",
        "x -= y\n",
        "print(x)"
      ],
      "metadata": {
        "colab": {
          "base_uri": "https://localhost:8080/"
        },
        "id": "fCrQ2BiLBS9d",
        "outputId": "6ab306b0-77ba-42eb-8b82-1ce3ba5736e6"
      },
      "execution_count": null,
      "outputs": [
        {
          "output_type": "stream",
          "name": "stdout",
          "text": [
            "9\n",
            "3\n"
          ]
        }
      ]
    },
    {
      "cell_type": "markdown",
      "source": [
        "## Some Python in-built\n",
        "\n",
        "### The `len()` function\n",
        "\n",
        "Returns the length of any Python function that contains some sort of counting thing\n",
        "\n",
        "In case of a string, it will return of characters"
      ],
      "metadata": {
        "id": "baJryq1TC7Jq"
      }
    },
    {
      "cell_type": "code",
      "source": [
        "print(len('cat'))"
      ],
      "metadata": {
        "colab": {
          "base_uri": "https://localhost:8080/"
        },
        "id": "EHYvJE63DYGc",
        "outputId": "243f4bde-6143-47dd-f647-35109a9b7364"
      },
      "execution_count": null,
      "outputs": [
        {
          "output_type": "stream",
          "name": "stdout",
          "text": [
            "3\n"
          ]
        }
      ]
    },
    {
      "cell_type": "markdown",
      "source": [
        "### String operators\n",
        "\n",
        "Two operators:\n",
        "- `+` : concatenate strings\n",
        "- `+=`: appends strings\n",
        "- index strings using square brackets, starting from 0"
      ],
      "metadata": {
        "id": "AOksBdA_Di7Q"
      }
    },
    {
      "cell_type": "code",
      "source": [
        "first_name = \"Kerry\"\n",
        "second_name = \"Smith\"\n",
        "\n",
        "full_name = first_name +\" \" + second_name\n",
        "print(full_name)"
      ],
      "metadata": {
        "colab": {
          "base_uri": "https://localhost:8080/"
        },
        "id": "7Nk1GAOOD-7v",
        "outputId": "5a14f72c-c3ec-4dfb-ac6a-91903ef3b1cf"
      },
      "execution_count": null,
      "outputs": [
        {
          "output_type": "stream",
          "name": "stdout",
          "text": [
            "Kerry Smith\n"
          ]
        }
      ]
    },
    {
      "cell_type": "code",
      "source": [
        "# The fourth index of the first name\n",
        "\n",
        "print(first_name[3])"
      ],
      "metadata": {
        "colab": {
          "base_uri": "https://localhost:8080/"
        },
        "id": "appanGKFEbaJ",
        "outputId": "5c71552f-891f-4736-8484-d6b9ce991cf7"
      },
      "execution_count": null,
      "outputs": [
        {
          "output_type": "stream",
          "name": "stdout",
          "text": [
            "r\n"
          ]
        }
      ]
    },
    {
      "cell_type": "markdown",
      "source": [
        "- Changing elements of a string by an index is not allowed.\n",
        "\n",
        "- Python strings are **immutable**, i.e., they can't be changed."
      ],
      "metadata": {
        "id": "z-HPxZQZFEPx"
      }
    },
    {
      "cell_type": "code",
      "source": [
        "a = 'Hello BU!'\n",
        "\n",
        "a[4] = '0'"
      ],
      "metadata": {
        "colab": {
          "base_uri": "https://localhost:8080/",
          "height": 181
        },
        "id": "aRCZ3KB2Ez32",
        "outputId": "5eaa077b-d96c-4f68-d011-252dfde298b6"
      },
      "execution_count": null,
      "outputs": [
        {
          "output_type": "error",
          "ename": "TypeError",
          "evalue": "'str' object does not support item assignment",
          "traceback": [
            "\u001b[0;31m---------------------------------------------------------------------------\u001b[0m",
            "\u001b[0;31mTypeError\u001b[0m                                 Traceback (most recent call last)",
            "\u001b[0;32m<ipython-input-15-c8ad3b3e5715>\u001b[0m in \u001b[0;36m<cell line: 0>\u001b[0;34m()\u001b[0m\n\u001b[1;32m      1\u001b[0m \u001b[0ma\u001b[0m \u001b[0;34m=\u001b[0m \u001b[0;34m'Hello BU!'\u001b[0m\u001b[0;34m\u001b[0m\u001b[0;34m\u001b[0m\u001b[0m\n\u001b[1;32m      2\u001b[0m \u001b[0;34m\u001b[0m\u001b[0m\n\u001b[0;32m----> 3\u001b[0;31m \u001b[0ma\u001b[0m\u001b[0;34m[\u001b[0m\u001b[0;36m4\u001b[0m\u001b[0;34m]\u001b[0m \u001b[0;34m=\u001b[0m \u001b[0;34m'0'\u001b[0m\u001b[0;34m\u001b[0m\u001b[0;34m\u001b[0m\u001b[0m\n\u001b[0m",
            "\u001b[0;31mTypeError\u001b[0m: 'str' object does not support item assignment"
          ]
        }
      ]
    },
    {
      "cell_type": "markdown",
      "source": [
        "## If/ Else\n",
        "\n",
        "**Conditional statements**:\n",
        "- `if`\n",
        "- `elif`: if ... elif\n",
        "- `else`: if ... elif ... else\n",
        "\n",
        "Syntax:\n",
        "\n",
        "```\n",
        "    if Boolean_value:\n",
        "\n",
        "      some code\n",
        "\n",
        "    elif Boolean_value:\n",
        "\n",
        "       ... some other code\n",
        "\n",
        "       .\n",
        "\n",
        "       .\n",
        "\n",
        "       .\n",
        "\n",
        "     else:\n",
        "     \n",
        "        ... more code ```  "
      ],
      "metadata": {
        "id": "8NJZunZkFptP"
      }
    },
    {
      "cell_type": "code",
      "source": [
        "if True:\n",
        "    print('This is true')"
      ],
      "metadata": {
        "colab": {
          "base_uri": "https://localhost:8080/"
        },
        "id": "NARLLGkYHm1q",
        "outputId": "e614488b-62f0-4043-aa09-48a49487fb1c"
      },
      "execution_count": null,
      "outputs": [
        {
          "output_type": "stream",
          "name": "stdout",
          "text": [
            "This is true\n"
          ]
        }
      ]
    },
    {
      "cell_type": "code",
      "source": [
        "a = 1\n",
        "b = 2\n",
        "\n",
        "if a > b:\n",
        "    print('a is greater than b')\n",
        "elif a < b:\n",
        "    print('a is less than b')\n",
        "else:\n",
        "    print('a is equal to b')"
      ],
      "metadata": {
        "colab": {
          "base_uri": "https://localhost:8080/"
        },
        "id": "Qu8uFHyxHSWM",
        "outputId": "1296bf9d-44b2-44c9-9d83-0c0c7d2c4ebd"
      },
      "execution_count": null,
      "outputs": [
        {
          "output_type": "stream",
          "name": "stdout",
          "text": [
            "a is less than b\n"
          ]
        }
      ]
    },
    {
      "cell_type": "code",
      "source": [
        "a = 1\n",
        "b = 2\n",
        "\n",
        "if a > b:\n",
        "  c = a\n",
        "elif b > a:\n",
        "  c = b\n",
        "else:\n",
        "  c = 'Equal!'\n",
        "\n",
        "print(c)"
      ],
      "metadata": {
        "colab": {
          "base_uri": "https://localhost:8080/"
        },
        "id": "WnbNaXliIDXO",
        "outputId": "e0fe66b0-8cc3-40af-96d3-9f898a00dc28"
      },
      "execution_count": null,
      "outputs": [
        {
          "output_type": "stream",
          "name": "stdout",
          "text": [
            "2\n"
          ]
        }
      ]
    },
    {
      "cell_type": "markdown",
      "source": [
        "### if/ else code blocks\n",
        "\n",
        "- Python knows a code block has ended when the indentation is removed.\n",
        "\n",
        "- Code blocks can be **nested** inside others therefore if-elif-else statements can be freely nested within others."
      ],
      "metadata": {
        "id": "VEVc0WnkJC0b"
      }
    },
    {
      "cell_type": "code",
      "source": [
        "a = 1\n",
        "b = 2\n",
        "\n",
        "if a <= b:\n",
        "  c = a\n",
        "  print('a <= b')\n",
        "  if c == 1:\n",
        "    print('c is 1')\n",
        "print('We are now out of the if statement')"
      ],
      "metadata": {
        "colab": {
          "base_uri": "https://localhost:8080/"
        },
        "id": "aD_TI_v7JxCu",
        "outputId": "595c27e1-d395-454c-cbdd-643b83e3a6dd"
      },
      "execution_count": null,
      "outputs": [
        {
          "output_type": "stream",
          "name": "stdout",
          "text": [
            "a <= b\n",
            "c is 1\n",
            "We are now out of the if statement\n"
          ]
        }
      ]
    },
    {
      "cell_type": "markdown",
      "source": [
        "## Lists\n",
        "\n",
        "- A Python list is a general purpose 1-dimensional container for variables.\n",
        "  - it a row, column or a vector of thing\n",
        "  - e.g\n",
        "    - fruits = ['pears', 'peach', 'berries']\n",
        "    - age = [ 21, 19, 20, 22, 20]\n",
        "    - kibandaski = [ 'katakata', 'chapo', 420, 315, 'chips mayai']\n",
        "    - shopping = [ 'kales', 'cabbages', 'spinach', ['eggs', 'soya', 'steak'], 'lettuce']"
      ],
      "metadata": {
        "id": "TX93u-XOKuPO"
      }
    },
    {
      "cell_type": "code",
      "source": [
        "fruits = ['pears', 'peach', 'berries']\n",
        "age = [ 21, 19, 20, 22, 20]\n",
        "kibandaski = [ 'katakata', 'chapo', 420, 315, 'chips mayai']\n",
        "shopping = [ 'kales', 'cabbages', 'spinach', ['eggs', 'soya', 'steak'], 'lettuce']\n",
        "\n",
        "print(shopping)"
      ],
      "metadata": {
        "colab": {
          "base_uri": "https://localhost:8080/"
        },
        "id": "xvFz6bNMMP5E",
        "outputId": "3bf9c220-3ffe-4948-ff05-3f5a2f4f8c71"
      },
      "execution_count": null,
      "outputs": [
        {
          "output_type": "stream",
          "name": "stdout",
          "text": [
            "['kales', 'cabbages', 'spinach', ['eggs', 'soya', 'steak'], 'lettuce']\n"
          ]
        }
      ]
    },
    {
      "cell_type": "markdown",
      "source": [
        "- List can change in size: elements can be added or removed.\n"
      ],
      "metadata": {
        "id": "MFaOQ04zMjhA"
      }
    },
    {
      "cell_type": "code",
      "source": [
        "# Make a list with [] brackets\n",
        "\n",
        "list_1 = []\n",
        "\n",
        "# Append with the `append()` function\n",
        "list_1.append(1)\n",
        "list_1.append(2)\n",
        "list_1.append(3)\n",
        "list_1.append('A string!')\n",
        "list_1.append(True)\n",
        "list_1.append(3.14159)\n",
        "list_1.append([])\n",
        "\n",
        "print(list_1)"
      ],
      "metadata": {
        "colab": {
          "base_uri": "https://localhost:8080/"
        },
        "id": "kB7B-NEmM0zd",
        "outputId": "f0c85f54-151e-4f3c-a50a-41883d6e3192"
      },
      "execution_count": null,
      "outputs": [
        {
          "output_type": "stream",
          "name": "stdout",
          "text": [
            "[1, 2, 3, 'A string!', True, 3.14159, []]\n"
          ]
        }
      ]
    },
    {
      "cell_type": "code",
      "source": [
        "# Create a list with some initial elements\n",
        "list_2 = [4, 5, -23.0 + 4.1j, 'cat']\n",
        "\n",
        "print(list_2)"
      ],
      "metadata": {
        "colab": {
          "base_uri": "https://localhost:8080/"
        },
        "id": "thgSINh1Nozn",
        "outputId": "eaeed67b-5a33-48a5-e013-b1773124556f"
      },
      "execution_count": null,
      "outputs": [
        {
          "output_type": "stream",
          "name": "stdout",
          "text": [
            "[4, 5, (-23+4.1j), 'cat']\n"
          ]
        }
      ]
    },
    {
      "cell_type": "markdown",
      "source": [
        "Create a list with N repeated elements"
      ],
      "metadata": {
        "id": "JdtT-NaZOE5m"
      }
    },
    {
      "cell_type": "code",
      "source": [
        "# Create a list with N repeated elements\n",
        "list_3 = [1] * 10\n",
        "\n",
        "print(list_3)"
      ],
      "metadata": {
        "colab": {
          "base_uri": "https://localhost:8080/"
        },
        "id": "zHdW3Rk0OGWh",
        "outputId": "fdddaaa3-db7a-4f0e-fb42-0b5191b72cf6"
      },
      "execution_count": null,
      "outputs": [
        {
          "output_type": "stream",
          "name": "stdout",
          "text": [
            "[1, 1, 1, 1, 1, 1, 1, 1, 1, 1]\n"
          ]
        }
      ]
    },
    {
      "cell_type": "markdown",
      "source": [
        "### List Functions"
      ],
      "metadata": {
        "id": "OrNvKmfwOWMJ"
      }
    },
    {
      "cell_type": "code",
      "source": [
        "dir(list_1)"
      ],
      "metadata": {
        "colab": {
          "base_uri": "https://localhost:8080/"
        },
        "id": "W3Oz3vH_OZLu",
        "outputId": "a07ed3ec-982d-4518-f884-e706c5e2f677"
      },
      "execution_count": null,
      "outputs": [
        {
          "output_type": "execute_result",
          "data": {
            "text/plain": [
              "['__add__',\n",
              " '__class__',\n",
              " '__class_getitem__',\n",
              " '__contains__',\n",
              " '__delattr__',\n",
              " '__delitem__',\n",
              " '__dir__',\n",
              " '__doc__',\n",
              " '__eq__',\n",
              " '__format__',\n",
              " '__ge__',\n",
              " '__getattribute__',\n",
              " '__getitem__',\n",
              " '__getstate__',\n",
              " '__gt__',\n",
              " '__hash__',\n",
              " '__iadd__',\n",
              " '__imul__',\n",
              " '__init__',\n",
              " '__init_subclass__',\n",
              " '__iter__',\n",
              " '__le__',\n",
              " '__len__',\n",
              " '__lt__',\n",
              " '__mul__',\n",
              " '__ne__',\n",
              " '__new__',\n",
              " '__reduce__',\n",
              " '__reduce_ex__',\n",
              " '__repr__',\n",
              " '__reversed__',\n",
              " '__rmul__',\n",
              " '__setattr__',\n",
              " '__setitem__',\n",
              " '__sizeof__',\n",
              " '__str__',\n",
              " '__subclasshook__',\n",
              " 'append',\n",
              " 'clear',\n",
              " 'copy',\n",
              " 'count',\n",
              " 'extend',\n",
              " 'index',\n",
              " 'insert',\n",
              " 'pop',\n",
              " 'remove',\n",
              " 'reverse',\n",
              " 'sort']"
            ]
          },
          "metadata": {},
          "execution_count": 25
        }
      ]
    },
    {
      "cell_type": "code",
      "source": [
        "len(list_1) # How many items are in list_1"
      ],
      "metadata": {
        "colab": {
          "base_uri": "https://localhost:8080/"
        },
        "id": "L9UXo4DQOgs-",
        "outputId": "d21ad964-7d17-44ab-b3c5-820006eb0484"
      },
      "execution_count": null,
      "outputs": [
        {
          "output_type": "execute_result",
          "data": {
            "text/plain": [
              "7"
            ]
          },
          "metadata": {},
          "execution_count": 26
        }
      ]
    },
    {
      "cell_type": "markdown",
      "source": [
        "### Accessing List Elements\n",
        "\n",
        "- Lists are accessed by index.\n",
        "  - All of this applies to accessaing strings by index as well\n",
        "- Index numbers start from 0\n"
      ],
      "metadata": {
        "id": "vkrbP5-ZOtbk"
      }
    },
    {
      "cell_type": "code",
      "source": [
        "# Example for list indexing\n",
        "\n",
        "x = ['a', 'b', 'c ', 'd', 'e ']\n",
        "\n",
        "#first element\n",
        "print(x[0])\n",
        "#second element\n",
        "print(x[1])\n",
        "\n",
        "# Last element\n",
        "print(x[-1])\n",
        "\n",
        "# Next -to-last element\n",
        "print(x[-2])"
      ],
      "metadata": {
        "colab": {
          "base_uri": "https://localhost:8080/"
        },
        "id": "kHPO_C8oPIiv",
        "outputId": "b77253d6-8bf4-41fc-d04a-05ef63db5c67"
      },
      "execution_count": null,
      "outputs": [
        {
          "output_type": "stream",
          "name": "stdout",
          "text": [
            "a\n",
            "b\n",
            "e \n",
            "d\n"
          ]
        }
      ]
    },
    {
      "cell_type": "markdown",
      "source": [
        "### List slicing\n",
        "\n",
        "Slice syntax: `x[ start:end:step]`\n",
        "  - Start vslue is inclusive, end value is exclusive\n",
        "  - step is optional and defaults to 1\n",
        "  - leaving out the end value means going tp the end\n",
        "  - slicing always returns a new list copied from an existing list."
      ],
      "metadata": {
        "id": "fBJp_DibQRuT"
      }
    },
    {
      "cell_type": "code",
      "source": [
        "x = ['a', 'b', 'c ', 'd', 'e ']\n",
        "\n",
        "x[0:1]"
      ],
      "metadata": {
        "colab": {
          "base_uri": "https://localhost:8080/"
        },
        "id": "rqE9gSWkRALW",
        "outputId": "db89f158-fa30-4970-aec2-d95331fc7489"
      },
      "execution_count": null,
      "outputs": [
        {
          "output_type": "execute_result",
          "data": {
            "text/plain": [
              "['a']"
            ]
          },
          "metadata": {},
          "execution_count": 33
        }
      ]
    },
    {
      "cell_type": "code",
      "source": [
        "print(x[0:2])\n",
        "print(x[0:3])\n",
        "\n",
        "#Include step value\n",
        "print(x[2:5:2])"
      ],
      "metadata": {
        "colab": {
          "base_uri": "https://localhost:8080/"
        },
        "id": "t0Km9O5VRLde",
        "outputId": "c09c92b9-0da9-408f-bf10-f9051664993a"
      },
      "execution_count": null,
      "outputs": [
        {
          "output_type": "stream",
          "name": "stdout",
          "text": [
            "['a', 'b']\n",
            "['a', 'b', 'c ']\n",
            "['c ', 'e ']\n"
          ]
        }
      ]
    },
    {
      "cell_type": "markdown",
      "source": [
        "### List Assignments and Deletions\n",
        "\n",
        "List can have their elements overwritten or deleted (with the `del`) command"
      ],
      "metadata": {
        "id": "aV4oIC0vR26Q"
      }
    },
    {
      "cell_type": "code",
      "source": [
        "x = ['a', 'b', 'c ', 'd', 'e ']\n",
        "\n",
        "x[0]= 3.141\n",
        "print(x)"
      ],
      "metadata": {
        "colab": {
          "base_uri": "https://localhost:8080/"
        },
        "id": "fuSWcZPDSmVG",
        "outputId": "3743472e-7bfc-4bde-bc1f-732d16d5d011"
      },
      "execution_count": null,
      "outputs": [
        {
          "output_type": "stream",
          "name": "stdout",
          "text": [
            "[3.141, 'b', 'c ', 'd', 'e ']\n"
          ]
        }
      ]
    },
    {
      "cell_type": "code",
      "source": [
        "del x[-1]\n",
        "print(x)"
      ],
      "metadata": {
        "colab": {
          "base_uri": "https://localhost:8080/"
        },
        "id": "DhIfYbo2S0s6",
        "outputId": "23786e55-c5ba-4ec3-cfbc-92c5cdfeba8c"
      },
      "execution_count": null,
      "outputs": [
        {
          "output_type": "stream",
          "name": "stdout",
          "text": [
            "[3.141, 'b', 'c ', 'd']\n"
          ]
        }
      ]
    }
  ]
}