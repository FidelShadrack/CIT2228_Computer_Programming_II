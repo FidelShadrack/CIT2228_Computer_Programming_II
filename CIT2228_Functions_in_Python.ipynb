{
  "nbformat": 4,
  "nbformat_minor": 0,
  "metadata": {
    "colab": {
      "provenance": [],
      "authorship_tag": "ABX9TyPsncb6d07XuETEsFURmZC/",
      "include_colab_link": true
    },
    "kernelspec": {
      "name": "python3",
      "display_name": "Python 3"
    },
    "language_info": {
      "name": "python"
    }
  },
  "cells": [
    {
      "cell_type": "markdown",
      "metadata": {
        "id": "view-in-github",
        "colab_type": "text"
      },
      "source": [
        "<a href=\"https://colab.research.google.com/github/Wachiyem/CIT2228_Computer_Programming_II/blob/main/CIT2228_Functions_in_Python.ipynb\" target=\"_parent\"><img src=\"https://colab.research.google.com/assets/colab-badge.svg\" alt=\"Open In Colab\"/></a>"
      ]
    },
    {
      "cell_type": "markdown",
      "source": [
        "# Function\n",
        "\n",
        "Mathematics: $f: X \\to Y$ $x ↦ x^2$ or $f(x) = x^2$\n"
      ],
      "metadata": {
        "id": "JgFtGRf_OL-5"
      }
    },
    {
      "cell_type": "code",
      "execution_count": null,
      "metadata": {
        "id": "HxqPCxzCN_Vh"
      },
      "outputs": [],
      "source": [
        "def square(x):\n",
        "  \"\"\"\n",
        "  Square of a number\n",
        "  \"\"\"\n",
        "  y = x ** 2\n",
        "  return y"
      ]
    },
    {
      "cell_type": "code",
      "source": [
        "x = 5\n",
        "y = square(x)\n",
        "print(y)"
      ],
      "metadata": {
        "colab": {
          "base_uri": "https://localhost:8080/"
        },
        "id": "X4FMdo0iQIG5",
        "outputId": "c1556ce2-6b1c-4e80-8890-1b15679a86c0"
      },
      "execution_count": null,
      "outputs": [
        {
          "output_type": "stream",
          "name": "stdout",
          "text": [
            "25\n"
          ]
        }
      ]
    },
    {
      "cell_type": "code",
      "source": [
        "def message():\n",
        "  \"\"\"\n",
        "  HBD mamaz!\n",
        "  \"\"\"\n",
        "  print(\"HBD mamaz!\")\n",
        "  print(\"HBD mamaz!\")\n",
        "  print(\"HBD mamaz!\")\n",
        "  return None\n",
        "\n",
        "message()"
      ],
      "metadata": {
        "colab": {
          "base_uri": "https://localhost:8080/"
        },
        "id": "KwjN_JrKQXwT",
        "outputId": "0cedb09b-d748-418b-d59e-8b407e1f4fc7"
      },
      "execution_count": null,
      "outputs": [
        {
          "output_type": "stream",
          "name": "stdout",
          "text": [
            "HBD mamaz!\n",
            "HBD mamaz!\n",
            "HBD mamaz!\n"
          ]
        }
      ]
    },
    {
      "cell_type": "code",
      "source": [
        "message()"
      ],
      "metadata": {
        "colab": {
          "base_uri": "https://localhost:8080/"
        },
        "id": "GmyVmx-GQsfU",
        "outputId": "2ae1f0f6-91c4-4662-836f-506f7fb1a57d"
      },
      "execution_count": null,
      "outputs": [
        {
          "output_type": "stream",
          "name": "stdout",
          "text": [
            "HBD mamaz!\n",
            "HBD mamaz!\n",
            "HBD mamaz!\n"
          ]
        }
      ]
    },
    {
      "cell_type": "markdown",
      "source": [
        "## Function Syntax"
      ],
      "metadata": {
        "id": "LaXcfdtiT1yt"
      }
    },
    {
      "cell_type": "code",
      "source": [
        "def greet(name):\n",
        "  \"\"\"\n",
        "  Send greeting message to Y2S2 students\n",
        "  \"\"\"\n",
        "  print(f\"Hello {name}. Merry Christmas! Nunua matoke.\")\n",
        "  return len(name)"
      ],
      "metadata": {
        "id": "t8AziKgAT4b1"
      },
      "execution_count": null,
      "outputs": []
    },
    {
      "cell_type": "code",
      "source": [
        "name = \"Y2S2\"\n",
        "greet(name)"
      ],
      "metadata": {
        "colab": {
          "base_uri": "https://localhost:8080/"
        },
        "id": "cHxgc07AUje3",
        "outputId": "137d906c-b583-4099-dc21-8a2a0752daf4"
      },
      "execution_count": null,
      "outputs": [
        {
          "output_type": "stream",
          "name": "stdout",
          "text": [
            "Hello Y2S2. Merry Christmas! Nunua matoke.\n"
          ]
        },
        {
          "output_type": "execute_result",
          "data": {
            "text/plain": [
              "4"
            ]
          },
          "metadata": {},
          "execution_count": 10
        }
      ]
    },
    {
      "cell_type": "code",
      "source": [
        "message_length = greet('Tom Cruise')\n",
        "print(message_length)"
      ],
      "metadata": {
        "colab": {
          "base_uri": "https://localhost:8080/"
        },
        "id": "o8reBtSqV7xn",
        "outputId": "cd37f27c-3c9e-4dc5-ca01-27295dbddbd6"
      },
      "execution_count": null,
      "outputs": [
        {
          "output_type": "stream",
          "name": "stdout",
          "text": [
            "Hello Tom Cruise. Merry Christmas! Nunua matoke.\n",
            "10\n"
          ]
        }
      ]
    },
    {
      "cell_type": "markdown",
      "source": [
        "## Position vs Keyword Arguments"
      ],
      "metadata": {
        "id": "qzlzaUF2YLQb"
      }
    },
    {
      "cell_type": "code",
      "source": [
        "# Positional arguments\n",
        "\n",
        "def describe_pet(animal_type, pet_name):\n",
        "  \"\"\"Display information about a pet.\"\"\"\n",
        "  print(f\"\\nI have a {animal_type}.\")\n",
        "  print(f\"My {animal_type}'s name is {pet_name.title()}.\")\n",
        "\n",
        "describe_pet('hamster', 'Fynn')"
      ],
      "metadata": {
        "colab": {
          "base_uri": "https://localhost:8080/"
        },
        "id": "LulIz8QhYQyX",
        "outputId": "9642db8f-ee66-4f68-a609-ce47df80436c"
      },
      "execution_count": null,
      "outputs": [
        {
          "output_type": "stream",
          "name": "stdout",
          "text": [
            "\n",
            "I have a hamster.\n",
            "My hamster's name is Fynn.\n"
          ]
        }
      ]
    },
    {
      "cell_type": "code",
      "source": [
        "#Keyword argument\n",
        "describe_pet(pet_name='Fynn', animal_type='hamster')"
      ],
      "metadata": {
        "colab": {
          "base_uri": "https://localhost:8080/"
        },
        "id": "3NcpPyVWZHYK",
        "outputId": "d2443a69-daae-4984-95a3-60f26baeaec0"
      },
      "execution_count": null,
      "outputs": [
        {
          "output_type": "stream",
          "name": "stdout",
          "text": [
            "\n",
            "I have a hamster.\n",
            "My hamster's name is Fynn.\n"
          ]
        }
      ]
    },
    {
      "cell_type": "markdown",
      "source": [
        "## Default Arguments"
      ],
      "metadata": {
        "id": "G92QrIl3aY1Y"
      }
    },
    {
      "cell_type": "code",
      "source": [
        "def describe_pet(pet_name, animal_type='dog'):\n",
        "  \"\"\"Display information about a pet.\"\"\"\n",
        "  print(f\"\\nI have a {animal_type}.\")\n",
        "  print(f\"My {animal_type}'s name is {pet_name.title()}.\")"
      ],
      "metadata": {
        "id": "hwhJz6fmY_lR"
      },
      "execution_count": null,
      "outputs": []
    },
    {
      "cell_type": "code",
      "source": [
        "describe_pet(\"Coco\")"
      ],
      "metadata": {
        "colab": {
          "base_uri": "https://localhost:8080/"
        },
        "id": "wW3uMRJxasTx",
        "outputId": "ddec1279-9955-47bb-8ea3-508cbe505e59"
      },
      "execution_count": null,
      "outputs": [
        {
          "output_type": "stream",
          "name": "stdout",
          "text": [
            "\n",
            "I have a dog.\n",
            "My dog's name is Coco.\n"
          ]
        }
      ]
    },
    {
      "cell_type": "markdown",
      "source": [
        "**Exercise:** Write a function, using default arguments, to perform the volume of a cone."
      ],
      "metadata": {
        "id": "Fyu8xyYhc894"
      }
    },
    {
      "cell_type": "code",
      "source": [
        "import math\n",
        "def volume_of_cone( radius = 133, height = 156):\n",
        "  \"\"\"\n",
        "  Function to calculate the volume of a cone\n",
        "  \"\"\"\n",
        "  volume = (1/3) * math.pi * (radius ** 2) * height\n",
        "  return volume"
      ],
      "metadata": {
        "id": "Ot7KUibvdYOO"
      },
      "execution_count": null,
      "outputs": []
    },
    {
      "cell_type": "code",
      "source": [
        "volume_of_cone()"
      ],
      "metadata": {
        "colab": {
          "base_uri": "https://localhost:8080/"
        },
        "id": "FZyLGw6kel5A",
        "outputId": "3eeb19be-8363-4929-ab2b-dd54e54a25e4"
      },
      "execution_count": null,
      "outputs": [
        {
          "output_type": "execute_result",
          "data": {
            "text/plain": [
              "2889724.887366192"
            ]
          },
          "metadata": {},
          "execution_count": 21
        }
      ]
    },
    {
      "cell_type": "markdown",
      "source": [
        "**Exercise**: Write a python function to calculate the Laplace transform of any arbitrary function.\n",
        "\n",
        "$ \\mathcal{L} = X(s) = \\int_{-\\infty}^{\\infty} x(t) e^{-st} dt $"
      ],
      "metadata": {
        "id": "aVvwO-8bevVI"
      }
    },
    {
      "cell_type": "code",
      "source": [
        "# Laplace Transform\n",
        "\n"
      ],
      "metadata": {
        "id": "FAIHcLQ7e-uD"
      },
      "execution_count": null,
      "outputs": []
    },
    {
      "cell_type": "markdown",
      "source": [
        "## Variable-Length Arguments\n",
        "- *args\n",
        "- **kwargs"
      ],
      "metadata": {
        "id": "om-OKd_Fgls5"
      }
    },
    {
      "cell_type": "code",
      "source": [
        "# *args\n",
        "\n",
        "def average(*numbers):\n",
        "  return sum(numbers)/ len(numbers)\n",
        "\n",
        "average(1, 2.3, 3, 5, 6.89, 7)\n",
        "\n"
      ],
      "metadata": {
        "colab": {
          "base_uri": "https://localhost:8080/"
        },
        "id": "l8fWsL4Tgu4i",
        "outputId": "efb4e6e6-26e9-4570-f0e9-19397181d785"
      },
      "execution_count": null,
      "outputs": [
        {
          "output_type": "execute_result",
          "data": {
            "text/plain": [
              "4.198333333333333"
            ]
          },
          "metadata": {},
          "execution_count": 26
        }
      ]
    },
    {
      "cell_type": "code",
      "source": [
        "# **kwargs\n",
        "def person_info(**details):\n",
        "  for key, value in details.items():\n",
        "    print(f\"{key} : {value}\")"
      ],
      "metadata": {
        "id": "1ECkh1IDje41"
      },
      "execution_count": null,
      "outputs": []
    },
    {
      "cell_type": "code",
      "source": [
        "person_info(name =\"Kulusi\", age = 17, gender = \"Male\", assignment = 10, mPesa =-1100)"
      ],
      "metadata": {
        "colab": {
          "base_uri": "https://localhost:8080/"
        },
        "id": "Gp3t60UPjplF",
        "outputId": "7d46ae38-b9eb-45cf-fc91-18d666514abf"
      },
      "execution_count": null,
      "outputs": [
        {
          "output_type": "stream",
          "name": "stdout",
          "text": [
            "name : Kulusi\n",
            "age : 17\n",
            "gender : Male\n",
            "assignment : 10\n",
            "mPesa : -1100\n"
          ]
        }
      ]
    },
    {
      "cell_type": "markdown",
      "source": [
        "## Return value and scope"
      ],
      "metadata": {
        "id": "e77-w-B2lHMG"
      }
    },
    {
      "cell_type": "code",
      "source": [
        "def min_max(numbers):\n",
        "  return min(numbers), max(numbers)\n",
        "\n",
        "low, high = min_max([1, 2, 3, 4, 5])\n",
        "print(f\"Low: {low}, High: {high}\")\n",
        "#"
      ],
      "metadata": {
        "colab": {
          "base_uri": "https://localhost:8080/"
        },
        "id": "uxR0LCDelNf4",
        "outputId": "bd0a5944-f69c-41f2-cf76-5c7dc08fbb3c"
      },
      "execution_count": null,
      "outputs": [
        {
          "output_type": "stream",
          "name": "stdout",
          "text": [
            "Low: 1, High: 5\n"
          ]
        }
      ]
    },
    {
      "cell_type": "code",
      "source": [],
      "metadata": {
        "id": "mZWNGUTLn0bd"
      },
      "execution_count": null,
      "outputs": []
    },
    {
      "cell_type": "markdown",
      "source": [
        "## Local and global variables"
      ],
      "metadata": {
        "id": "9pfVXQF_n1Te"
      }
    },
    {
      "cell_type": "code",
      "source": [
        "def increment():\n",
        "  global count\n",
        "  count =+ 1"
      ],
      "metadata": {
        "id": "sOLhew-FoGw9"
      },
      "execution_count": null,
      "outputs": []
    },
    {
      "cell_type": "code",
      "source": [
        "increment()"
      ],
      "metadata": {
        "id": "PDTrl-LmoTvu"
      },
      "execution_count": null,
      "outputs": []
    },
    {
      "cell_type": "markdown",
      "source": [
        "## Lambda Function"
      ],
      "metadata": {
        "id": "83BzgmoaqW7B"
      }
    },
    {
      "cell_type": "code",
      "source": [
        "square = lambda x: x*x"
      ],
      "metadata": {
        "id": "5AVU840DqZuH"
      },
      "execution_count": null,
      "outputs": []
    },
    {
      "cell_type": "markdown",
      "source": [
        "## Recursive Functions"
      ],
      "metadata": {
        "id": "1mX3j8mProla"
      }
    },
    {
      "cell_type": "code",
      "source": [
        "def factorial(n):\n",
        "  if n == 0:\n",
        "    return 1\n",
        "  return n * factorial(n-1)"
      ],
      "metadata": {
        "id": "aF9GjHFJrvCc"
      },
      "execution_count": null,
      "outputs": []
    },
    {
      "cell_type": "code",
      "source": [
        "factorial(5)"
      ],
      "metadata": {
        "colab": {
          "base_uri": "https://localhost:8080/"
        },
        "id": "5Z-XlFEVshax",
        "outputId": "5c1d4d3c-646d-4948-c861-759032e7701a"
      },
      "execution_count": null,
      "outputs": [
        {
          "output_type": "execute_result",
          "data": {
            "text/plain": [
              "120"
            ]
          },
          "metadata": {},
          "execution_count": 44
        }
      ]
    }
  ]
}