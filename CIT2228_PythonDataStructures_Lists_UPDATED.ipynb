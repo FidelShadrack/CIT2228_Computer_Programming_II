{
  "nbformat": 4,
  "nbformat_minor": 0,
  "metadata": {
    "colab": {
      "provenance": [],
      "include_colab_link": true
    },
    "kernelspec": {
      "name": "python3",
      "display_name": "Python 3"
    },
    "language_info": {
      "name": "python"
    }
  },
  "cells": [
    {
      "cell_type": "markdown",
      "metadata": {
        "id": "view-in-github",
        "colab_type": "text"
      },
      "source": [
        "<a href=\"https://colab.research.google.com/github/Wachiyem/CIT2228_Computer_Programming_II/blob/main/CIT2228_PythonDataStructures_Lists_UPDATED.ipynb\" target=\"_parent\"><img src=\"https://colab.research.google.com/assets/colab-badge.svg\" alt=\"Open In Colab\"/></a>"
      ]
    },
    {
      "cell_type": "markdown",
      "source": [
        "# Python Data Structures: Lists, Tuples, Sets, and Dictionaries\n",
        "\n",
        "## Lists\n",
        "\n",
        "- mutable (can be modified) and ordered sequences\n",
        "- can have mixed data types\n"
      ],
      "metadata": {
        "id": "SemWEnNZNdJL"
      }
    },
    {
      "cell_type": "markdown",
      "source": [],
      "metadata": {
        "id": "DRgzKS19X7zH"
      }
    },
    {
      "cell_type": "code",
      "source": [
        "numbers = [1, 2, 3, 5, 8, 11, 13] # List with integers\n",
        "print(numbers)"
      ],
      "metadata": {
        "id": "FyhePPtUNvWJ",
        "colab": {
          "base_uri": "https://localhost:8080/"
        },
        "outputId": "bbda48bb-b26b-48ff-ebe6-42571577ab26"
      },
      "execution_count": null,
      "outputs": [
        {
          "output_type": "stream",
          "name": "stdout",
          "text": [
            "[1, 2, 3, 5, 8, 11, 13]\n"
          ]
        }
      ]
    },
    {
      "cell_type": "code",
      "source": [
        "names = [\"Adan\", \"Maurice\", \"Issack\", \"Jackline\"] # List with only strings\n",
        "print(names)"
      ],
      "metadata": {
        "id": "EN0AkoveOCPQ",
        "colab": {
          "base_uri": "https://localhost:8080/"
        },
        "outputId": "9187d8cd-5300-42d9-858d-e1db36b177d3"
      },
      "execution_count": null,
      "outputs": [
        {
          "output_type": "stream",
          "name": "stdout",
          "text": [
            "['Adan', 'Maurice', 'Issack', 'Jackline']\n"
          ]
        }
      ]
    },
    {
      "cell_type": "code",
      "source": [
        "mixed = [1, 'cat', 19.4, True] # List with mixed data types\n",
        "print(mixed)"
      ],
      "metadata": {
        "id": "r2vTBrq7OWKu",
        "colab": {
          "base_uri": "https://localhost:8080/"
        },
        "outputId": "f536d23c-8313-4456-e0b7-b59f9eb7e2b8"
      },
      "execution_count": null,
      "outputs": [
        {
          "output_type": "stream",
          "name": "stdout",
          "text": [
            "[1, 'cat', 19.4, True]\n"
          ]
        }
      ]
    },
    {
      "cell_type": "markdown",
      "source": [
        "### List indexing and slicing\n"
      ],
      "metadata": {
        "id": "-EksEcy1PRwH"
      }
    },
    {
      "cell_type": "code",
      "source": [
        "mixed[0]\n"
      ],
      "metadata": {
        "id": "xdQEzPE8PaTp",
        "colab": {
          "base_uri": "https://localhost:8080/"
        },
        "outputId": "552e1f33-a8a5-4a8c-e910-23b1d20c38e2"
      },
      "execution_count": null,
      "outputs": [
        {
          "output_type": "execute_result",
          "data": {
            "text/plain": [
              "1"
            ]
          },
          "metadata": {},
          "execution_count": 4
        }
      ]
    },
    {
      "cell_type": "code",
      "source": [
        "mixed[2]"
      ],
      "metadata": {
        "id": "TcpYWmMYPklv"
      },
      "execution_count": null,
      "outputs": []
    },
    {
      "cell_type": "code",
      "source": [
        "mixed[0:3]"
      ],
      "metadata": {
        "id": "zCzOIqGmPpDB"
      },
      "execution_count": null,
      "outputs": []
    },
    {
      "cell_type": "code",
      "source": [
        "mixed[-1] # Accesses last entry of the list"
      ],
      "metadata": {
        "id": "NTU3TyToP5iK"
      },
      "execution_count": null,
      "outputs": []
    },
    {
      "cell_type": "code",
      "source": [
        "mixed[-2] #the second last entry of the list"
      ],
      "metadata": {
        "id": "4DloHTROQAJg"
      },
      "execution_count": null,
      "outputs": []
    },
    {
      "cell_type": "code",
      "source": [
        "mixed[:2]"
      ],
      "metadata": {
        "id": "6TaN_CjVQGzh"
      },
      "execution_count": null,
      "outputs": []
    },
    {
      "cell_type": "code",
      "source": [
        "mixed[0:4]"
      ],
      "metadata": {
        "id": "YiVxlQBZUgAr"
      },
      "execution_count": null,
      "outputs": []
    },
    {
      "cell_type": "code",
      "source": [
        "mixed[:]"
      ],
      "metadata": {
        "id": "ua-lH8lOUnU1"
      },
      "execution_count": null,
      "outputs": []
    },
    {
      "cell_type": "code",
      "source": [
        "mixed[0:]"
      ],
      "metadata": {
        "id": "luozcpkRU7Ni"
      },
      "execution_count": null,
      "outputs": []
    },
    {
      "cell_type": "markdown",
      "source": [
        "### Mutability of lists\n",
        "\n",
        "- lists are mutable - can be modified after creation, unlike strings"
      ],
      "metadata": {
        "id": "I_KxlXOaQ_8O"
      }
    },
    {
      "cell_type": "code",
      "source": [
        "animals = ['jogoo', 'mwera', 'cow', 'sheep']\n",
        "print(animals)\n",
        "animals[2] = 'sheep'\n",
        "print(animals)"
      ],
      "metadata": {
        "id": "b-tvSrVQRFyV",
        "colab": {
          "base_uri": "https://localhost:8080/"
        },
        "outputId": "98114b61-3d82-48db-a613-9e674c1eb26a"
      },
      "execution_count": null,
      "outputs": [
        {
          "output_type": "stream",
          "name": "stdout",
          "text": [
            "['jogoo', 'mwera', 'cow', 'sheep']\n",
            "['jogoo', 'mwera', 'sheep', 'sheep']\n"
          ]
        }
      ]
    },
    {
      "cell_type": "code",
      "source": [
        "animals[-1:2] = ['Birds names in Kiswahili']\n",
        "print(animals)"
      ],
      "metadata": {
        "id": "dJ5VcR2jRyAe",
        "colab": {
          "base_uri": "https://localhost:8080/"
        },
        "outputId": "57350e3e-0e51-4f45-a85b-a04b72d20965"
      },
      "execution_count": null,
      "outputs": [
        {
          "output_type": "stream",
          "name": "stdout",
          "text": [
            "['jogoo', 'mwera', 'sheep', 'B', 'i', 'r', 'd', 's', ' ', 'n', 'a', 'm', 'e', 's', ' ', 'i', 'n', ' ', 'K', 'i', 's', 'w', 'a', 'h', 'i', 'l', 'i', 'Birds names in Kiswahili', 'sheep']\n"
          ]
        }
      ]
    },
    {
      "cell_type": "code",
      "source": [
        "animals[-1:2] = ['cat', 'dog']\n",
        "print(animals)"
      ],
      "metadata": {
        "id": "_2vV1msTXeS7"
      },
      "execution_count": null,
      "outputs": []
    },
    {
      "cell_type": "markdown",
      "source": [
        "### Common Lists Methods\n",
        "\n",
        "Method in Python is a function that is associated with an object and can be called on that object.\n",
        "\n",
        "Methods are very similar to functions but they are called using a **dot notation** e.g. `object.method()` and often operate on the object they belong to.\n",
        "\n",
        "Common list methods include:\n",
        "\n",
        "1. `append(item)` - add the item to the end of the list\n",
        "2. `insert(index, item)` - inserts an item at a specified index\n",
        "3. `remove(item)` - Removes the first occurence of item\n",
        "4. `pop([index])` - Removes and returns the element at index (default: last element)\n",
        "5. `extend(iterable)` - Adds all the elements from the iterable (e.g. another list) to the list"
      ],
      "metadata": {
        "id": "nlyaUGyCS5DK"
      }
    },
    {
      "cell_type": "code",
      "source": [
        "fruits = ['orange', 'mango', 'peach', 'guava']\n",
        "fruits.append('pineapple')\n",
        "print(fruits)"
      ],
      "metadata": {
        "id": "aiZxNGs-T-IU",
        "colab": {
          "base_uri": "https://localhost:8080/"
        },
        "outputId": "f35719f0-04ac-46fb-9fbe-293171dafba5"
      },
      "execution_count": null,
      "outputs": [
        {
          "output_type": "stream",
          "name": "stdout",
          "text": [
            "['orange', 'mango', 'peach', 'guava', 'pineapple']\n"
          ]
        }
      ]
    },
    {
      "cell_type": "code",
      "source": [
        "fruits.insert(2, 'banana')\n",
        "print(fruits)"
      ],
      "metadata": {
        "id": "7qrsD9LpU_5e",
        "colab": {
          "base_uri": "https://localhost:8080/"
        },
        "outputId": "a2bff3c3-aa5c-4697-d471-aa2bc4bfdb39"
      },
      "execution_count": null,
      "outputs": [
        {
          "output_type": "stream",
          "name": "stdout",
          "text": [
            "['orange', 'mango', 'banana', 'banana', 'banana', 'peach', 'pineapple']\n"
          ]
        }
      ]
    },
    {
      "cell_type": "code",
      "source": [
        "fruits.remove('banana')\n",
        "print(fruits)"
      ],
      "metadata": {
        "id": "bOTwsHJlVaCt",
        "colab": {
          "base_uri": "https://localhost:8080/"
        },
        "outputId": "2dfdb04b-5ce7-4843-b0dc-6a00b534a64e"
      },
      "execution_count": null,
      "outputs": [
        {
          "output_type": "stream",
          "name": "stdout",
          "text": [
            "['orange', 'mango', 'banana', 'peach', 'pineapple']\n"
          ]
        }
      ]
    },
    {
      "cell_type": "code",
      "source": [
        "fruits.pop(3)\n",
        "print(fruits)"
      ],
      "metadata": {
        "id": "-GtTzKBmV48X"
      },
      "execution_count": null,
      "outputs": []
    },
    {
      "cell_type": "code",
      "source": [
        "mediterranean_fruits = ['tomato', 'blackberry', 'pear']\n",
        "fruits.extend(mediterranean_fruits)\n",
        "print(fruits)"
      ],
      "metadata": {
        "id": "AMQgWPncWnSx"
      },
      "execution_count": null,
      "outputs": []
    },
    {
      "cell_type": "markdown",
      "source": [
        "### Information Methods in Lists\n",
        "\n",
        "They retrieve information about the list but do not modify them. Examples:\n",
        "\n",
        "1. `count(item)` - returns the number of times `item` appears on the list\n",
        "\n",
        "2. `index(item)` - returns the index of the first occurence of the item.\n",
        "\n",
        "3. `sort()` - sorts the list in ascending order.\n",
        "\n",
        "4. `reverse()` - reverses the order of elements in the list"
      ],
      "metadata": {
        "id": "C1-TtFa7W8es"
      }
    },
    {
      "cell_type": "code",
      "source": [
        "vegetables = ['kales', 'brocolli', 'spinach', 'kales',\n",
        "              'cabbage', 'asparagus']\n",
        "vegetables.count('kales')"
      ],
      "metadata": {
        "id": "qnLRkarpXfyt",
        "colab": {
          "base_uri": "https://localhost:8080/"
        },
        "outputId": "4a918332-779b-41ea-aa4d-ad64a603fa2d"
      },
      "execution_count": null,
      "outputs": [
        {
          "output_type": "execute_result",
          "data": {
            "text/plain": [
              "2"
            ]
          },
          "metadata": {},
          "execution_count": 18
        }
      ]
    },
    {
      "cell_type": "code",
      "source": [
        "print(len(vegetables))"
      ],
      "metadata": {
        "id": "TeqtcznWgtAj",
        "colab": {
          "base_uri": "https://localhost:8080/"
        },
        "outputId": "1c22c2bd-f1c4-4067-8e6d-4ab4ad8d2936"
      },
      "execution_count": null,
      "outputs": [
        {
          "output_type": "stream",
          "name": "stdout",
          "text": [
            "6\n"
          ]
        }
      ]
    },
    {
      "cell_type": "code",
      "source": [
        "vegetables.index('spinach')"
      ],
      "metadata": {
        "id": "u_SjlANpYIGf",
        "colab": {
          "base_uri": "https://localhost:8080/"
        },
        "outputId": "4ade8e0f-4dd9-4757-cb55-0b66550cbb18"
      },
      "execution_count": null,
      "outputs": [
        {
          "output_type": "execute_result",
          "data": {
            "text/plain": [
              "2"
            ]
          },
          "metadata": {},
          "execution_count": 20
        }
      ]
    },
    {
      "cell_type": "code",
      "source": [
        "vegetables.sort()\n",
        "vegetables"
      ],
      "metadata": {
        "id": "bad-dW-SYkCs",
        "colab": {
          "base_uri": "https://localhost:8080/"
        },
        "outputId": "b56e276f-e258-4569-8d6a-e3c5e8ce559d"
      },
      "execution_count": null,
      "outputs": [
        {
          "output_type": "execute_result",
          "data": {
            "text/plain": [
              "['asparagus', 'brocolli', 'cabbage', 'kales', 'kales', 'spinach']"
            ]
          },
          "metadata": {},
          "execution_count": 21
        }
      ]
    },
    {
      "cell_type": "code",
      "source": [
        "age = [18, 19, 20, 21, 22]\n",
        "age.sort()\n",
        "age"
      ],
      "metadata": {
        "id": "Z8vI-YRCYt_9",
        "colab": {
          "base_uri": "https://localhost:8080/"
        },
        "outputId": "b255867d-c787-498c-9034-7a9354f3bbd7"
      },
      "execution_count": null,
      "outputs": [
        {
          "output_type": "execute_result",
          "data": {
            "text/plain": [
              "[18, 19, 20, 21, 22]"
            ]
          },
          "metadata": {},
          "execution_count": 22
        }
      ]
    },
    {
      "cell_type": "code",
      "source": [
        "vegetables.reverse() # Opposite of sort()\n",
        "vegetables"
      ],
      "metadata": {
        "id": "9Acoa8VDZe1G",
        "colab": {
          "base_uri": "https://localhost:8080/"
        },
        "outputId": "8fa8a2c8-66cc-4d59-cfac-adad384fa6e3"
      },
      "execution_count": null,
      "outputs": [
        {
          "output_type": "execute_result",
          "data": {
            "text/plain": [
              "['spinach', 'kales', 'kales', 'cabbage', 'brocolli', 'asparagus']"
            ]
          },
          "metadata": {},
          "execution_count": 23
        }
      ]
    },
    {
      "cell_type": "code",
      "source": [
        "age.reverse()\n",
        "age"
      ],
      "metadata": {
        "id": "NMKVFIKkhSTU",
        "colab": {
          "base_uri": "https://localhost:8080/"
        },
        "outputId": "833e65dd-672f-4ee9-8d6e-62b9d25437a4"
      },
      "execution_count": null,
      "outputs": [
        {
          "output_type": "execute_result",
          "data": {
            "text/plain": [
              "[22, 21, 20, 19, 18]"
            ]
          },
          "metadata": {},
          "execution_count": 24
        }
      ]
    },
    {
      "cell_type": "markdown",
      "source": [
        "### List Copying\n",
        "Can be done using these 3 methods"
      ],
      "metadata": {
        "id": "uIBBWzASalt0"
      }
    },
    {
      "cell_type": "code",
      "source": [
        "animals = ['cat', 'donkey', 'horse', 'cow']\n",
        "\n",
        "backup1 = animals.copy() # Method 1\n",
        "print(backup1)\n",
        "\n",
        "backup2 = animals[:] # Method 2\n",
        "print(backup2)\n",
        "\n",
        "backup3 = list(animals) # Method 3\n",
        "print(backup3)"
      ],
      "metadata": {
        "id": "9K20YLgWas7m"
      },
      "execution_count": null,
      "outputs": []
    },
    {
      "cell_type": "markdown",
      "source": [
        "### Multidimensional list\n",
        "\n",
        "- Lists that contain other lists\n",
        "- Useful for matrices and tabular data"
      ],
      "metadata": {
        "id": "-5GOpDvUcKVh"
      }
    },
    {
      "cell_type": "code",
      "source": [
        "matrix = [[1, 2, 3],[4, 5, 6],[7, 8, 9]]\n",
        "\n",
        "print(matrix)\n",
        "\n",
        "matrix[2][2]"
      ],
      "metadata": {
        "id": "OR8gswlUcXOm",
        "colab": {
          "base_uri": "https://localhost:8080/"
        },
        "outputId": "1f6ab469-324d-4f9d-92c2-bffc679216e5"
      },
      "execution_count": null,
      "outputs": [
        {
          "output_type": "stream",
          "name": "stdout",
          "text": [
            "[[1, 2, 3], [4, 5, 6], [7, 8, 9]]\n"
          ]
        },
        {
          "output_type": "execute_result",
          "data": {
            "text/plain": [
              "9"
            ]
          },
          "metadata": {},
          "execution_count": 25
        }
      ]
    },
    {
      "cell_type": "markdown",
      "source": [],
      "metadata": {
        "id": "B9RSDXiQjabn"
      }
    },
    {
      "cell_type": "code",
      "source": [
        "# Create 3 * 4 2D list intialised by 0\n",
        "\n",
        "row, col = 3, 4\n",
        "\n",
        "matrix2 = [[0 for j in range(col)] for i in range(row)]\n",
        "matrix2"
      ],
      "metadata": {
        "id": "3_d6yDemdDuj",
        "colab": {
          "base_uri": "https://localhost:8080/"
        },
        "outputId": "a37286df-498c-48e2-9e18-4181c78d6bf5"
      },
      "execution_count": null,
      "outputs": [
        {
          "output_type": "execute_result",
          "data": {
            "text/plain": [
              "[[0, 0, 0, 0], [0, 0, 0, 0], [0, 0, 0, 0]]"
            ]
          },
          "metadata": {},
          "execution_count": 27
        }
      ]
    },
    {
      "cell_type": "code",
      "source": [
        "row, col = 3, 4\n",
        "\n",
        "for i in range(row):\n",
        "    for j in range(col):\n",
        "        matrix2[i][j] = 0\n",
        "\n",
        "matrix2"
      ],
      "metadata": {
        "id": "gH41WmgaknlZ",
        "colab": {
          "base_uri": "https://localhost:8080/"
        },
        "outputId": "d4a97c98-8fde-4be2-95e3-0719fc393041"
      },
      "execution_count": null,
      "outputs": [
        {
          "output_type": "execute_result",
          "data": {
            "text/plain": [
              "[[0, 0, 0, 0], [0, 0, 0, 0], [0, 0, 0, 0]]"
            ]
          },
          "metadata": {},
          "execution_count": 28
        }
      ]
    },
    {
      "cell_type": "markdown",
      "source": [
        "### List Comprehensions\n",
        "\n",
        "Consise way to create and transform lists\n",
        "\n",
        "More readable and sometimes faster than loops"
      ],
      "metadata": {
        "id": "CUI9hjZsefVK"
      }
    },
    {
      "cell_type": "code",
      "source": [
        "# Function and the not so cool way\n",
        "\n",
        "for x in range(10):\n",
        "    x_squared = x ** 2\n",
        "    print( x_squared)"
      ],
      "metadata": {
        "id": "lLKB6zKrex41",
        "colab": {
          "base_uri": "https://localhost:8080/"
        },
        "outputId": "6cf51a6a-f35d-4800-8dfc-0de7105105c2"
      },
      "execution_count": null,
      "outputs": [
        {
          "output_type": "stream",
          "name": "stdout",
          "text": [
            "0\n",
            "1\n",
            "4\n",
            "9\n",
            "16\n",
            "25\n",
            "36\n",
            "49\n",
            "64\n",
            "81\n"
          ]
        }
      ]
    },
    {
      "cell_type": "code",
      "source": [
        "# Rewrite using list comprehensions\n",
        "# Squares of numbers from 0-9\n",
        "\n",
        "square = [x ** 2 for x in range(10)]\n",
        "print(square)"
      ],
      "metadata": {
        "id": "qGSqvC5nfl4V",
        "colab": {
          "base_uri": "https://localhost:8080/"
        },
        "outputId": "f0850ebc-f798-4edc-f10e-8d14a4ff112f"
      },
      "execution_count": null,
      "outputs": [
        {
          "output_type": "stream",
          "name": "stdout",
          "text": [
            "[0, 1, 4, 9, 16, 25, 36, 49, 64, 81]\n"
          ]
        }
      ]
    },
    {
      "cell_type": "code",
      "source": [
        "# Even numbers between 0-9\n",
        "\n",
        "evens = [x for x in range(10) if x % 2 == 0] # % is for remainder calculation\n",
        "print(evens)"
      ],
      "metadata": {
        "id": "EQfRssHfgHmC",
        "colab": {
          "base_uri": "https://localhost:8080/"
        },
        "outputId": "5e2ec75f-f9fe-4009-8875-1672b81534c7"
      },
      "execution_count": null,
      "outputs": [
        {
          "output_type": "stream",
          "name": "stdout",
          "text": [
            "[0, 2, 4, 6, 8]\n"
          ]
        }
      ]
    },
    {
      "cell_type": "code",
      "source": [
        "# Convert strings to uppercase\n",
        "\n",
        "colors = [\"orange\", \"red\", \"green\", \"blue\"]\n",
        "upper_colors = [color.upper() for color in colors]\n",
        "print(upper_colors)"
      ],
      "metadata": {
        "id": "mLhjexaJg1p3",
        "colab": {
          "base_uri": "https://localhost:8080/"
        },
        "outputId": "70cf8170-e722-497f-c7d5-e77cc24c6e11"
      },
      "execution_count": null,
      "outputs": [
        {
          "output_type": "stream",
          "name": "stdout",
          "text": [
            "['ORANGE', 'RED', 'GREEN', 'BLUE']\n"
          ]
        }
      ]
    },
    {
      "cell_type": "markdown",
      "source": [
        "## Tuples\n",
        "\n",
        "### Tuple Basics\n",
        "\n",
        "Immutable and ordered collection of elements in python/ sequences.\n",
        "\n",
        "Very similar to lists but cannot be modiefied after creation (immutable).\n",
        "\n",
        "They are defined using **parenthesis** or the **`tuple()`** constructor or just with commas."
      ],
      "metadata": {
        "id": "UTU2IyuqqJ_T"
      }
    },
    {
      "cell_type": "code",
      "source": [
        "another_tuple = (10, 15, 20, 25)\n",
        "print(another_tuple)"
      ],
      "metadata": {
        "colab": {
          "base_uri": "https://localhost:8080/"
        },
        "id": "a4VPltMnDs08",
        "outputId": "ccef7e59-be1f-4bcf-f9bc-7493dca2120a"
      },
      "execution_count": null,
      "outputs": [
        {
          "output_type": "stream",
          "name": "stdout",
          "text": [
            "(10, 15, 20, 25)\n"
          ]
        }
      ]
    },
    {
      "cell_type": "code",
      "source": [
        "another_tuple = tuple([10, 15, 20, 25]) # Converts a list [10, 15, 20, 25]\n",
        "                                        # into a tuple\n",
        "print(another_tuple)"
      ],
      "metadata": {
        "colab": {
          "base_uri": "https://localhost:8080/"
        },
        "id": "1OfOiUOKD9hP",
        "outputId": "6f5db124-8dec-49d2-cb54-ffa1d79e16bd"
      },
      "execution_count": null,
      "outputs": [
        {
          "output_type": "stream",
          "name": "stdout",
          "text": [
            "(10, 15, 20, 25)\n"
          ]
        }
      ]
    },
    {
      "cell_type": "code",
      "source": [
        "another_tuple = 10, 15, 20, 25\n",
        "print(another_tuple)"
      ],
      "metadata": {
        "colab": {
          "base_uri": "https://localhost:8080/"
        },
        "id": "_I9XB-tYELMS",
        "outputId": "5a7314c8-35ec-4291-8b93-56d5fe63c05c"
      },
      "execution_count": null,
      "outputs": [
        {
          "output_type": "stream",
          "name": "stdout",
          "text": [
            "(10, 15, 20, 25)\n"
          ]
        }
      ]
    },
    {
      "cell_type": "markdown",
      "source": [
        "### Single-element tuple\n",
        "\n",
        "MUST have a comma"
      ],
      "metadata": {
        "id": "4hvsSe5WEdns"
      }
    },
    {
      "cell_type": "code",
      "source": [
        "# Single-element tuple\n",
        "\n",
        "single_tuple = (10,)\n",
        "print(single_tuple)\n",
        "\n",
        "not_a_tuple = (10)\n",
        "print(not_a_tuple)"
      ],
      "metadata": {
        "colab": {
          "base_uri": "https://localhost:8080/"
        },
        "id": "yEch0FH6EkU5",
        "outputId": "b3e7841a-687b-4cce-b677-394a79242606"
      },
      "execution_count": null,
      "outputs": [
        {
          "output_type": "stream",
          "name": "stdout",
          "text": [
            "(10,)\n",
            "10\n"
          ]
        }
      ]
    },
    {
      "cell_type": "markdown",
      "source": [
        "### Key Characteristics of Tuples\n",
        "\n",
        "1. **Ordered**- Elements maintain their position.\n",
        "\n",
        "2. **Immutable** - Cannot be changed/ modified after creation\n",
        "\n",
        "3. **Can contain mixed data types** - A tuple can have integers, bools, complex, floats, strings, lists, etc.\n",
        "\n",
        "4. **Allow duplicates** - Elements are. not uniques."
      ],
      "metadata": {
        "id": "HMt2va9fE4Pf"
      }
    },
    {
      "cell_type": "code",
      "source": [
        "my_tuple = (1, 2, 3, 4, 5)\n",
        "print(my_tuple)"
      ],
      "metadata": {
        "id": "bZXnpCm2qQJN"
      },
      "execution_count": null,
      "outputs": []
    },
    {
      "cell_type": "code",
      "source": [
        "my_tuple[0]"
      ],
      "metadata": {
        "id": "RQD5P6UzqV29"
      },
      "execution_count": null,
      "outputs": []
    },
    {
      "cell_type": "code",
      "source": [
        "my_tuple[0:3]"
      ],
      "metadata": {
        "id": "zkj5MDKVqeXr"
      },
      "execution_count": null,
      "outputs": []
    },
    {
      "cell_type": "markdown",
      "source": [
        "A single elemeny tuple needs a comma"
      ],
      "metadata": {
        "id": "fa_V8QI1qpwB"
      }
    },
    {
      "cell_type": "code",
      "source": [
        "tuple_single = (1,)\n",
        "print(tuple_single)"
      ],
      "metadata": {
        "id": "6Dc8p-Z1qs7t"
      },
      "execution_count": null,
      "outputs": []
    },
    {
      "cell_type": "code",
      "source": [
        "not_a_tuple = (1) # Not a tuple\n",
        "print(not_a_tuple)"
      ],
      "metadata": {
        "id": "7NgE73vbq1OG"
      },
      "execution_count": null,
      "outputs": []
    },
    {
      "cell_type": "markdown",
      "source": [
        "### Accessing Elements in a Tuple\n",
        "\n",
        "#### Indexing (0-based)\n",
        "The first is always in the 0-th index"
      ],
      "metadata": {
        "id": "CcI-s2odHAbV"
      }
    },
    {
      "cell_type": "code",
      "source": [
        "my_tuple = (1, 2, 3, 4, 5)\n",
        "my_tuple[0]"
      ],
      "metadata": {
        "id": "8W7Jp5HPrM4C",
        "colab": {
          "base_uri": "https://localhost:8080/"
        },
        "outputId": "d140c880-ef55-47fe-a89a-c5b846378565"
      },
      "execution_count": null,
      "outputs": [
        {
          "output_type": "execute_result",
          "data": {
            "text/plain": [
              "1"
            ]
          },
          "metadata": {},
          "execution_count": 39
        }
      ]
    },
    {
      "cell_type": "code",
      "source": [
        "my_tuple[-1]"
      ],
      "metadata": {
        "colab": {
          "base_uri": "https://localhost:8080/"
        },
        "id": "fX97YtTSHZAU",
        "outputId": "e1368f88-d77b-42e2-c400-41f175f656dc"
      },
      "execution_count": null,
      "outputs": [
        {
          "output_type": "execute_result",
          "data": {
            "text/plain": [
              "5"
            ]
          },
          "metadata": {},
          "execution_count": 40
        }
      ]
    },
    {
      "cell_type": "markdown",
      "source": [
        "#### Slicing:\n",
        "\n",
        "Slice the tuple from a start point to an end point"
      ],
      "metadata": {
        "id": "Roq6JKiJHh11"
      }
    },
    {
      "cell_type": "code",
      "source": [
        "my_tuple = 10, 20, 30, 40, 50, 60, 70, 80\n",
        "print(my_tuple)\n",
        "\n",
        "my_tuple[2:5] # 5 index is not included"
      ],
      "metadata": {
        "colab": {
          "base_uri": "https://localhost:8080/"
        },
        "id": "5A7H6tPeHqh2",
        "outputId": "abc52f99-a88c-43b5-e81b-9cda7a27cc9d"
      },
      "execution_count": null,
      "outputs": [
        {
          "output_type": "stream",
          "name": "stdout",
          "text": [
            "(10, 20, 30, 40, 50, 60, 70, 80)\n"
          ]
        },
        {
          "output_type": "execute_result",
          "data": {
            "text/plain": [
              "(30, 40, 50)"
            ]
          },
          "metadata": {},
          "execution_count": 42
        }
      ]
    },
    {
      "cell_type": "markdown",
      "source": [
        "### Tuple Immutability\n",
        "\n",
        "- immutable ( cannot be modified once created).\n",
        "\n",
        "- but can have mutable entries withing"
      ],
      "metadata": {
        "id": "I5NXnv6GsOYC"
      }
    },
    {
      "cell_type": "code",
      "source": [
        "my_tuple = (1, 2, [3, 4])\n",
        "print(my_tuple)"
      ],
      "metadata": {
        "id": "LXXvnX16t2R_",
        "colab": {
          "base_uri": "https://localhost:8080/"
        },
        "outputId": "4378c344-1d56-4cd7-edf9-5baf70bbe5db"
      },
      "execution_count": null,
      "outputs": [
        {
          "output_type": "stream",
          "name": "stdout",
          "text": [
            "(1, 2, [3, 4])\n"
          ]
        }
      ]
    },
    {
      "cell_type": "code",
      "source": [
        "my_tuple = ([1, 2, 3, 4,5], ['mangoes', 'banana', 'strawberry'])\n",
        "print(my_tuple)"
      ],
      "metadata": {
        "colab": {
          "base_uri": "https://localhost:8080/"
        },
        "id": "UgJJAZTTIRm8",
        "outputId": "9f573c85-92e3-4fad-d1e4-f7a6e916d8ac"
      },
      "execution_count": null,
      "outputs": [
        {
          "output_type": "stream",
          "name": "stdout",
          "text": [
            "([1, 2, 3, 4, 5], ['mangoes', 'banana', 'strawberry'])\n"
          ]
        }
      ]
    },
    {
      "cell_type": "code",
      "source": [
        "my_tuple[0] = [20, 30, 40] # We will get a type error since tuples are immutab;le"
      ],
      "metadata": {
        "colab": {
          "base_uri": "https://localhost:8080/",
          "height": 163
        },
        "id": "LS26Nx1YIk_8",
        "outputId": "e4ef2efb-5b71-404d-b230-857eab8204a8"
      },
      "execution_count": null,
      "outputs": [
        {
          "output_type": "error",
          "ename": "TypeError",
          "evalue": "'tuple' object does not support item assignment",
          "traceback": [
            "\u001b[0;31m---------------------------------------------------------------------------\u001b[0m",
            "\u001b[0;31mTypeError\u001b[0m                                 Traceback (most recent call last)",
            "\u001b[0;32m<ipython-input-45-81aed12eba9a>\u001b[0m in \u001b[0;36m<cell line: 0>\u001b[0;34m()\u001b[0m\n\u001b[0;32m----> 1\u001b[0;31m \u001b[0mmy_tuple\u001b[0m\u001b[0;34m[\u001b[0m\u001b[0;36m0\u001b[0m\u001b[0;34m]\u001b[0m \u001b[0;34m=\u001b[0m \u001b[0;34m[\u001b[0m\u001b[0;36m20\u001b[0m\u001b[0;34m,\u001b[0m \u001b[0;36m30\u001b[0m\u001b[0;34m,\u001b[0m \u001b[0;36m40\u001b[0m\u001b[0;34m]\u001b[0m \u001b[0;31m# We will get a type error since tuples are immutab;le\u001b[0m\u001b[0;34m\u001b[0m\u001b[0;34m\u001b[0m\u001b[0m\n\u001b[0m",
            "\u001b[0;31mTypeError\u001b[0m: 'tuple' object does not support item assignment"
          ]
        }
      ]
    },
    {
      "cell_type": "code",
      "source": [
        "my_tuple[0][1] = 500\n",
        "my_tuple"
      ],
      "metadata": {
        "colab": {
          "base_uri": "https://localhost:8080/"
        },
        "id": "qvIbtgoUI9RE",
        "outputId": "dac6ed24-f306-4c80-8b3f-71d73a301862"
      },
      "execution_count": null,
      "outputs": [
        {
          "output_type": "execute_result",
          "data": {
            "text/plain": [
              "([1, 500, 3, 4, 5], ['mangoes', 'banana', 'strawberry'])"
            ]
          },
          "metadata": {},
          "execution_count": 46
        }
      ]
    },
    {
      "cell_type": "markdown",
      "source": [
        "### Empty Tuple"
      ],
      "metadata": {
        "id": "kBHnRRpZJh6n"
      }
    },
    {
      "cell_type": "code",
      "source": [
        "my_tuple = ()\n",
        "print(my_tuple)"
      ],
      "metadata": {
        "id": "jOqwhujuu_As",
        "colab": {
          "base_uri": "https://localhost:8080/"
        },
        "outputId": "5d36a7d0-33f7-48e3-ab5c-e9354df0b5d3"
      },
      "execution_count": null,
      "outputs": [
        {
          "output_type": "stream",
          "name": "stdout",
          "text": [
            "()\n"
          ]
        }
      ]
    },
    {
      "cell_type": "markdown",
      "source": [
        "### Tuple Packing and Unpacking\n",
        "\n",
        "#### Tuple Packing\n",
        "\n",
        "Process of assigning multiple values to a single tuple\n",
        "\n",
        "#### Tuple Unpacking\n",
        "\n",
        "Process of extracting values from a tuple into separate variables.\n",
        "\n",
        "\n"
      ],
      "metadata": {
        "id": "bgaeqpi6vAPb"
      }
    },
    {
      "cell_type": "code",
      "source": [
        "# Packing multiple values into a tuple (Tuple Packing)\n",
        "\n",
        "t = 1, 2, 3\n",
        "print(t)\n",
        "\n",
        "# Another example\n",
        "person = 'John', 25, 'New York' # John, 25 and \"New York\" are packed into one uplem\n",
        "print(person)"
      ],
      "metadata": {
        "colab": {
          "base_uri": "https://localhost:8080/"
        },
        "id": "Pgfb7DJjLOo6",
        "outputId": "1bf34840-7a7d-419b-dafa-8625a6b5a150"
      },
      "execution_count": null,
      "outputs": [
        {
          "output_type": "stream",
          "name": "stdout",
          "text": [
            "(1, 2, 3)\n",
            "('John', 25, 'New York')\n"
          ]
        }
      ]
    },
    {
      "cell_type": "code",
      "source": [
        "# Tuple Upacking\n",
        "\n",
        "x, y, z = t\n",
        "\n",
        "print('x =', x)\n",
        "print('y =', y)\n",
        "print('z =', z)"
      ],
      "metadata": {
        "colab": {
          "base_uri": "https://localhost:8080/"
        },
        "id": "y0Hznh1iL7s-",
        "outputId": "d27a830d-d7e8-4c6f-be6a-bfa3760341ed"
      },
      "execution_count": null,
      "outputs": [
        {
          "output_type": "stream",
          "name": "stdout",
          "text": [
            "x = 1\n",
            "y = 2\n",
            "z = 3\n"
          ]
        }
      ]
    },
    {
      "cell_type": "markdown",
      "source": [
        "Exercise: Unpack the tuple people into single variables `name`, `age` and `city`"
      ],
      "metadata": {
        "id": "g5EPjHP1MWGz"
      }
    },
    {
      "cell_type": "code",
      "source": [
        "person = 'John', 25, 'New York'\n",
        "\n",
        "name, age, city = person\n",
        "\n",
        "print(f'Name: {name}')\n",
        "print(f'Age: {age}')\n",
        "print(f'City: {city}')"
      ],
      "metadata": {
        "colab": {
          "base_uri": "https://localhost:8080/"
        },
        "id": "rzhm5XXaMjYz",
        "outputId": "e559cbff-7055-4784-d129-3cf6f808a865"
      },
      "execution_count": null,
      "outputs": [
        {
          "output_type": "stream",
          "name": "stdout",
          "text": [
            "Name: John\n",
            "Age: 25\n",
            "City: New York\n"
          ]
        }
      ]
    },
    {
      "cell_type": "markdown",
      "source": [
        "#### Using `_` for ignoring values\n",
        "\n",
        "If you do not want a specific value, you can use an underscore `-` as a placeholder"
      ],
      "metadata": {
        "id": "fvVvxRr-NU0b"
      }
    },
    {
      "cell_type": "code",
      "source": [
        "name, _, city = person\n",
        "print(f'Name: {name}')\n",
        "print(f'City: {city}')"
      ],
      "metadata": {
        "colab": {
          "base_uri": "https://localhost:8080/"
        },
        "id": "pZe9JvAgNqM_",
        "outputId": "f0b3bf54-eca1-4bff-8c65-79d2961dd8dc"
      },
      "execution_count": null,
      "outputs": [
        {
          "output_type": "stream",
          "name": "stdout",
          "text": [
            "Name: John\n",
            "City: New York\n"
          ]
        }
      ]
    },
    {
      "cell_type": "markdown",
      "source": [
        "#### Using `*` for Variable length Unpacking\n",
        "\n",
        "If you do not know the exact number of values, `*` can capture extra values into a list"
      ],
      "metadata": {
        "id": "UGlRWBsSN-Wf"
      }
    },
    {
      "cell_type": "code",
      "source": [
        "data = (1, 2, 3, 4, 5, 6, 7, 8, 9, 10)\n",
        "\n",
        "first, *middle, last = data\n",
        "print(first)\n",
        "print(middle)\n",
        "print(last)"
      ],
      "metadata": {
        "colab": {
          "base_uri": "https://localhost:8080/"
        },
        "id": "Tq-jwgwaOSmj",
        "outputId": "06c809c8-fc55-4e64-83d2-848664653f2c"
      },
      "execution_count": null,
      "outputs": [
        {
          "output_type": "stream",
          "name": "stdout",
          "text": [
            "1\n",
            "[2, 3, 4, 5, 6, 7, 8, 9]\n",
            "10\n"
          ]
        }
      ]
    },
    {
      "cell_type": "markdown",
      "source": [
        "#### Swapping variables using Tuple Unpacking\n",
        "\n",
        "Python allows swapping variables in a single line using tuple unpacking.\n",
        "\n",
        "This one will help you avoid needing a temporary variable."
      ],
      "metadata": {
        "id": "UJbT5Y9UOrKJ"
      }
    },
    {
      "cell_type": "code",
      "source": [
        "a, b = 10, 20\n",
        "\n",
        "a, b = b, a\n",
        "\n",
        "print('a =', a)\n",
        "print('b =', b)"
      ],
      "metadata": {
        "colab": {
          "base_uri": "https://localhost:8080/"
        },
        "id": "75ZoN6EXPB-Q",
        "outputId": "bf2dbe51-effe-43ec-b126-264c824571f3"
      },
      "execution_count": null,
      "outputs": [
        {
          "output_type": "stream",
          "name": "stdout",
          "text": [
            "a = 20\n",
            "b = 10\n"
          ]
        }
      ]
    },
    {
      "cell_type": "markdown",
      "source": [
        "#### Returning Multiple Values from a Function Using Tuples\n",
        "\n",
        "Functions can return multiple values using Tuples packing and unpacking"
      ],
      "metadata": {
        "id": "nZxI0YUcPton"
      }
    },
    {
      "cell_type": "code",
      "source": [
        "def get_cordinates():\n",
        "  return 10.5, 20.3\n",
        "\n",
        "x, y = get_cordinates()\n",
        "print(x)\n",
        "print(y)"
      ],
      "metadata": {
        "colab": {
          "base_uri": "https://localhost:8080/"
        },
        "id": "jlucvBkOQAcv",
        "outputId": "f719cb49-156a-46d7-e728-9ace1833fad8"
      },
      "execution_count": null,
      "outputs": [
        {
          "output_type": "stream",
          "name": "stdout",
          "text": [
            "10.5\n",
            "20.3\n"
          ]
        }
      ]
    },
    {
      "cell_type": "code",
      "source": [
        "nums = 2, 7, 8, 2, 5, 7, 18, 18, 19, 24, 45\n",
        "print(nums)\n",
        "\n",
        "def min_max(nums):\n",
        "  return max(nums), min(nums)\n",
        "\n",
        "min_max(nums)"
      ],
      "metadata": {
        "id": "fsLlrrxtvHd6",
        "colab": {
          "base_uri": "https://localhost:8080/"
        },
        "outputId": "7769a068-595a-4cc2-c574-d19d7afe3d31"
      },
      "execution_count": null,
      "outputs": [
        {
          "output_type": "stream",
          "name": "stdout",
          "text": [
            "(2, 7, 8, 2, 5, 7, 18, 18, 19, 24, 45)\n"
          ]
        },
        {
          "output_type": "execute_result",
          "data": {
            "text/plain": [
              "(45, 2)"
            ]
          },
          "metadata": {},
          "execution_count": 58
        }
      ]
    },
    {
      "cell_type": "markdown",
      "source": [
        "### Named Tuples\n",
        "\n",
        "An extensions of regular tuples that allow access elements using **named attributes** rather than just index positions.\n",
        "\n",
        "Named tuples come from the `collections` module.\n",
        "\n",
        "Provide a more readable and self-documenting way to deal with tuples."
      ],
      "metadata": {
        "id": "bTydMp2nR0x7"
      }
    },
    {
      "cell_type": "code",
      "source": [
        "# Creating and Using Named Tuples\n",
        "# Named tuples are defined using collections.namedtuple.\n",
        "\n",
        "from collections import namedtuple\n",
        "\n",
        "#Define a named tuple called 'Person' with fields:\n",
        "#name, age, city\n",
        "\n",
        "Person = namedtuple('Person', ['name', 'age', 'city'])\n",
        "\n",
        "# Create an instance of Person\n",
        "p1 = Person(name='John', age=25, city='New York')\n",
        "\n",
        "# Access the elements using the named attributes\n",
        "print(p1)\n",
        "print(p1.name) #Output: 'John'\n",
        "print(p1.age) #Age: 25\n",
        "print(p1.city) #City: 'New York'\n"
      ],
      "metadata": {
        "colab": {
          "base_uri": "https://localhost:8080/"
        },
        "id": "hMSzK3prSsxG",
        "outputId": "e3cb57e7-c7f7-4c3a-c5df-091757c60466"
      },
      "execution_count": null,
      "outputs": [
        {
          "output_type": "stream",
          "name": "stdout",
          "text": [
            "Person(name='John', age=25, city='New York')\n",
            "John\n",
            "25\n",
            "New York\n"
          ]
        }
      ]
    },
    {
      "cell_type": "code",
      "source": [
        "# Access elements of the entries by using index (just like regular tuple)\n",
        "p1[0]"
      ],
      "metadata": {
        "colab": {
          "base_uri": "https://localhost:8080/",
          "height": 36
        },
        "id": "vHWc90pjUsmx",
        "outputId": "b2fd2c26-6eeb-4c58-c8f6-8241674bd602"
      },
      "execution_count": null,
      "outputs": [
        {
          "output_type": "execute_result",
          "data": {
            "text/plain": [
              "'John'"
            ],
            "application/vnd.google.colaboratory.intrinsic+json": {
              "type": "string"
            }
          },
          "metadata": {},
          "execution_count": 61
        }
      ]
    },
    {
      "cell_type": "code",
      "source": [
        "# We can convert named tuples into dictionaries\n",
        "\n",
        "p1_dict = p1._asdict()\n",
        "print(p1_dict)"
      ],
      "metadata": {
        "id": "jZ2I3pg7U5KZ",
        "colab": {
          "base_uri": "https://localhost:8080/"
        },
        "outputId": "44e360b4-b38f-4048-bf84-19dccd4b2293"
      },
      "execution_count": null,
      "outputs": [
        {
          "output_type": "stream",
          "name": "stdout",
          "text": [
            "{'name': 'John', 'age': 25, 'city': 'New York'}\n"
          ]
        }
      ]
    },
    {
      "cell_type": "markdown",
      "source": [
        "#### Why Use Named Tuples?\n",
        "\n",
        "1. **Readability**: Instead of accessing elements with index (`person[0]`), we use meaningful names e.g. `person.name`.\n",
        "\n",
        "2. **Immutability**: Like regular tuples, named tuples are immutable.\n",
        "\n",
        "3. **Memory efficiency**: They use less memory than dictionaries since they do not require extra storage for keys.\n",
        "\n",
        "\n",
        "#### When to Use Named Tuples?\n",
        "\n",
        "- When you need a lightweight, immutable object with named attributes.\n",
        "\n",
        "- When you want to improve code readability without the overhead of the dictionary.\n",
        "\n",
        "- When performance is a concern (e.g. working with large datasets where memory matters)\n"
      ],
      "metadata": {
        "id": "cczxXhH5VyVI"
      }
    },
    {
      "cell_type": "markdown",
      "source": [
        "## Sets in Python\n",
        "\n",
        "Set in python is an **unordered, mutable, and unindexed** collection of **UNIQUE ELEMENTS**.\n",
        "\n",
        "Sets are optimised for membership testing .\n",
        "\n",
        "Sets are also useful in removing duplicates and performing mathematical operations such as:\n",
        "\n",
        "- **Union** : $A \\cup B$\n",
        "- **Intersection** : $A ∩ B$\n",
        "- **Difference** : A\\B\n",
        "\n",
        "### Creating Sets\n",
        "\n",
        "Sets can be created using\n",
        "- curly brackets `{}`\n",
        "- `set()`\n"
      ],
      "metadata": {
        "id": "jgxR3MGuX0dF"
      }
    },
    {
      "cell_type": "code",
      "source": [
        "# Creating Sets\n",
        "basket = ['apple', 'orange', 'apple', 'pear', 'orange', 'banana'] # this is list\n",
        "fruit = set(basket) # Creates a set with unique members & unordered\n",
        "print(fruit)"
      ],
      "metadata": {
        "colab": {
          "base_uri": "https://localhost:8080/"
        },
        "id": "Wbf74R0tdSyS",
        "outputId": "abba62a7-8e2d-423c-c6a3-f0ea9e0a9c95"
      },
      "execution_count": null,
      "outputs": [
        {
          "output_type": "stream",
          "name": "stdout",
          "text": [
            "{'apple', 'pear', 'orange', 'banana'}\n"
          ]
        }
      ]
    },
    {
      "cell_type": "code",
      "source": [
        "'orange' in fruit # Checks for membership"
      ],
      "metadata": {
        "colab": {
          "base_uri": "https://localhost:8080/"
        },
        "id": "9HnPpmOpdx5S",
        "outputId": "ee876648-d406-4874-b149-992b6a155ac7"
      },
      "execution_count": null,
      "outputs": [
        {
          "output_type": "execute_result",
          "data": {
            "text/plain": [
              "True"
            ]
          },
          "metadata": {},
          "execution_count": 2
        }
      ]
    },
    {
      "cell_type": "markdown",
      "source": [
        "'orange' $\\in$ fruit"
      ],
      "metadata": {
        "id": "kFSao1tbX_-6"
      }
    },
    {
      "cell_type": "code",
      "source": [
        "# Create a set using curly brackets\n",
        "\n",
        "my_set = {1, 2, 3, 4, 5}\n",
        "print(my_set)"
      ],
      "metadata": {
        "colab": {
          "base_uri": "https://localhost:8080/"
        },
        "id": "-KzUh-W0eC0R",
        "outputId": "41c7022a-179f-47da-c121-458a4dfce8d6"
      },
      "execution_count": null,
      "outputs": [
        {
          "output_type": "stream",
          "name": "stdout",
          "text": [
            "{1, 2, 3, 4, 5}\n"
          ]
        }
      ]
    },
    {
      "cell_type": "code",
      "source": [
        "# Create an empty set (must use set() and not {})\n",
        "\n",
        "empty_set = set()\n",
        "print(empty_set)\n",
        "print(type(empty_set))"
      ],
      "metadata": {
        "colab": {
          "base_uri": "https://localhost:8080/"
        },
        "id": "rI13-sWZeQUt",
        "outputId": "391be7a4-6044-47d5-ab81-810f4e3559e5"
      },
      "execution_count": null,
      "outputs": [
        {
          "output_type": "stream",
          "name": "stdout",
          "text": [
            "set()\n",
            "<class 'set'>\n"
          ]
        }
      ]
    },
    {
      "cell_type": "markdown",
      "source": [
        "**Remark**: `{}` create an empty dictionary, not a set. Always use `set()` for empty set.\n"
      ],
      "metadata": {
        "id": "KmQgUwUueiQz"
      }
    },
    {
      "cell_type": "markdown",
      "source": [
        "### Properties of Sets\n",
        "1. **Unordered**: Elements have no fixed positions\n",
        "2. **Unique elements**: Duplicates are automatically removed.\n",
        "3. **Mutable**: You can add or remove elements\n",
        "4. **Unindexed**: No indexing and slicing"
      ],
      "metadata": {
        "id": "keHyyUs3ez0t"
      }
    },
    {
      "cell_type": "markdown",
      "source": [
        "### Set Operations\n",
        "\n",
        "#### Methods\n",
        "\n",
        "#####Adding Elements to a Set\n",
        "- `add()` - add a single element\n",
        "\n",
        "- `update()` - adds multiple elements\n",
        "\n",
        "##### Removing Elements from a Set\n",
        "- `remove()` - removes an element ( error if Not Found)\n",
        "\n",
        "- `discard()` - removes an element (no error if not found)\n",
        "\n",
        "- `pop()` - removes a random element. Raise an error if the set is empty.\n",
        "\n",
        "- `clear()` - removes all elements"
      ],
      "metadata": {
        "id": "u6w9b62BfzzJ"
      }
    },
    {
      "cell_type": "code",
      "source": [
        "# add()\n",
        "\n",
        "my_set = {1, 2, 3, 4, 5}\n",
        "my_set.add(6) # Adds a single element\n",
        "print(my_set)"
      ],
      "metadata": {
        "colab": {
          "base_uri": "https://localhost:8080/"
        },
        "id": "3J1lJUdqhBhJ",
        "outputId": "94ec1f1a-b2aa-4d1d-ad7a-f90f51db7fe9"
      },
      "execution_count": null,
      "outputs": [
        {
          "output_type": "stream",
          "name": "stdout",
          "text": [
            "{1, 2, 3, 4, 5, 6}\n"
          ]
        }
      ]
    },
    {
      "cell_type": "code",
      "source": [
        "# update() - adds multiple elements\n",
        "\n",
        "my_set.update([7, 8, 9])\n",
        "print(my_set)"
      ],
      "metadata": {
        "colab": {
          "base_uri": "https://localhost:8080/"
        },
        "id": "4su1yJUwhQma",
        "outputId": "62c4a769-846d-4719-9f1d-8aa47162bb8b"
      },
      "execution_count": null,
      "outputs": [
        {
          "output_type": "stream",
          "name": "stdout",
          "text": [
            "{1, 2, 3, 4, 5, 6, 7, 8, 9}\n"
          ]
        }
      ]
    },
    {
      "cell_type": "markdown",
      "source": [],
      "metadata": {
        "id": "Zl0F0JXWiDae"
      }
    },
    {
      "cell_type": "code",
      "source": [
        "# remove() - removes an element\n",
        "# If element exist, it is removed\n",
        "# Raises an error if element is missing\n",
        "\n",
        "my_set.remove(3)\n",
        "print(my_set)\n",
        "\n",
        "my_set.remove(10) # Raises an error (Type error) since 10 is not in the set"
      ],
      "metadata": {
        "colab": {
          "base_uri": "https://localhost:8080/",
          "height": 217
        },
        "id": "XI01_bKZhnkU",
        "outputId": "85eb2337-498e-4717-8535-19a8968309b1"
      },
      "execution_count": null,
      "outputs": [
        {
          "output_type": "stream",
          "name": "stdout",
          "text": [
            "{1, 2, 4, 5, 6, 7, 8, 9}\n"
          ]
        },
        {
          "output_type": "error",
          "ename": "KeyError",
          "evalue": "10",
          "traceback": [
            "\u001b[0;31m---------------------------------------------------------------------------\u001b[0m",
            "\u001b[0;31mKeyError\u001b[0m                                  Traceback (most recent call last)",
            "\u001b[0;32m<ipython-input-7-c2367019f2b4>\u001b[0m in \u001b[0;36m<cell line: 0>\u001b[0;34m()\u001b[0m\n\u001b[1;32m      6\u001b[0m \u001b[0mprint\u001b[0m\u001b[0;34m(\u001b[0m\u001b[0mmy_set\u001b[0m\u001b[0;34m)\u001b[0m\u001b[0;34m\u001b[0m\u001b[0;34m\u001b[0m\u001b[0m\n\u001b[1;32m      7\u001b[0m \u001b[0;34m\u001b[0m\u001b[0m\n\u001b[0;32m----> 8\u001b[0;31m \u001b[0mmy_set\u001b[0m\u001b[0;34m.\u001b[0m\u001b[0mremove\u001b[0m\u001b[0;34m(\u001b[0m\u001b[0;36m10\u001b[0m\u001b[0;34m)\u001b[0m \u001b[0;31m# Raises an error (Type error) since 10 is not in the set\u001b[0m\u001b[0;34m\u001b[0m\u001b[0;34m\u001b[0m\u001b[0m\n\u001b[0m",
            "\u001b[0;31mKeyError\u001b[0m: 10"
          ]
        }
      ]
    },
    {
      "cell_type": "code",
      "source": [
        "# discard() - works like remove()\n",
        "#but does not raise an error if the element is missing\n",
        "\n",
        "my_set = {1, 2, 3, 4, 5}\n",
        "my_set.discard(3)\n",
        "print(my_set)\n",
        "\n",
        "my_set.discard(10) # No error"
      ],
      "metadata": {
        "colab": {
          "base_uri": "https://localhost:8080/"
        },
        "id": "7DEoTqNliL5C",
        "outputId": "f0b9dbc9-749b-4bcb-cbf3-17972283b4a5"
      },
      "execution_count": null,
      "outputs": [
        {
          "output_type": "stream",
          "name": "stdout",
          "text": [
            "{1, 2, 4, 5}\n"
          ]
        }
      ]
    },
    {
      "cell_type": "code",
      "source": [
        "# pop() - removes and returns a random element (useful for unordered data)\n",
        "# raises an error if the set is empty\n",
        "my_set = {10, 20, 30, 40, 50}\n",
        "popped_element = my_set.pop()\n",
        "print(popped_element)\n",
        "print(my_set)\n",
        "\n",
        "empty_set = set()\n",
        "empty_set.pop() # Raises an error since the set is empty"
      ],
      "metadata": {
        "colab": {
          "base_uri": "https://localhost:8080/",
          "height": 217
        },
        "id": "7fyf5SqBimXO",
        "outputId": "140e51e8-177a-4dbc-f9f6-759622791718"
      },
      "execution_count": null,
      "outputs": [
        {
          "output_type": "stream",
          "name": "stdout",
          "text": [
            "50\n",
            "{20, 40, 10, 30}\n"
          ]
        },
        {
          "output_type": "error",
          "ename": "KeyError",
          "evalue": "'pop from an empty set'",
          "traceback": [
            "\u001b[0;31m---------------------------------------------------------------------------\u001b[0m",
            "\u001b[0;31mKeyError\u001b[0m                                  Traceback (most recent call last)",
            "\u001b[0;32m<ipython-input-9-8f935597d5ab>\u001b[0m in \u001b[0;36m<cell line: 0>\u001b[0;34m()\u001b[0m\n\u001b[1;32m      7\u001b[0m \u001b[0;34m\u001b[0m\u001b[0m\n\u001b[1;32m      8\u001b[0m \u001b[0mempty_set\u001b[0m \u001b[0;34m=\u001b[0m \u001b[0mset\u001b[0m\u001b[0;34m(\u001b[0m\u001b[0;34m)\u001b[0m\u001b[0;34m\u001b[0m\u001b[0;34m\u001b[0m\u001b[0m\n\u001b[0;32m----> 9\u001b[0;31m \u001b[0mempty_set\u001b[0m\u001b[0;34m.\u001b[0m\u001b[0mpop\u001b[0m\u001b[0;34m(\u001b[0m\u001b[0;34m)\u001b[0m \u001b[0;31m# Raises an error since the set is empty\u001b[0m\u001b[0;34m\u001b[0m\u001b[0;34m\u001b[0m\u001b[0m\n\u001b[0m",
            "\u001b[0;31mKeyError\u001b[0m: 'pop from an empty set'"
          ]
        }
      ]
    },
    {
      "cell_type": "code",
      "source": [
        "# clear()- Remove All Elements/ Empties the entire set.\n",
        "\n",
        "my_set = {1, 2, 3}\n",
        "my_set.clear()\n",
        "print(my_set)  # Output: set()"
      ],
      "metadata": {
        "id": "z8rp759AjLcu",
        "colab": {
          "base_uri": "https://localhost:8080/"
        },
        "outputId": "76c1cb8e-87ce-45ee-d9e7-49f178d4c299"
      },
      "execution_count": null,
      "outputs": [
        {
          "output_type": "stream",
          "name": "stdout",
          "text": [
            "set()\n"
          ]
        }
      ]
    },
    {
      "cell_type": "markdown",
      "source": [
        "#### Mathematical Set Operations\n",
        "\n",
        "1. `union()` – Combine Sets (Duplicates Removed).\n",
        "\n",
        "  Returns a new set with elements from both sets.\n",
        "\n",
        "  Equivalent to `A | B`."
      ],
      "metadata": {
        "id": "TxdY1RikwE0-"
      }
    },
    {
      "cell_type": "code",
      "source": [
        "A = {1, 2, 3}\n",
        "B = {3, 4, 5}\n",
        "\n",
        "print(A.union(B))  # Output: {1, 2, 3, 4, 5}\n",
        "print(A | B)  # Same result using |\n"
      ],
      "metadata": {
        "colab": {
          "base_uri": "https://localhost:8080/"
        },
        "id": "JATFxig5wkvo",
        "outputId": "60de9c0e-798f-4a4f-adae-5e34709b566f"
      },
      "execution_count": null,
      "outputs": [
        {
          "output_type": "stream",
          "name": "stdout",
          "text": [
            "{1, 2, 3, 4, 5}\n",
            "{1, 2, 3, 4, 5}\n"
          ]
        }
      ]
    },
    {
      "cell_type": "markdown",
      "source": [
        "2. `intersection()` – Common Elements\n",
        "\n",
        "  - Returns a set with elements found in both sets.\n",
        "\n",
        "  - Equivalent to `A & B`."
      ],
      "metadata": {
        "id": "i5v8e3wAwptI"
      }
    },
    {
      "cell_type": "code",
      "source": [
        "print(A.intersection(B))  # Output: {3}\n",
        "print(A & B)  # Same result using &\n",
        "\n",
        "# {3} is in both sets A and B"
      ],
      "metadata": {
        "colab": {
          "base_uri": "https://localhost:8080/"
        },
        "id": "HtoNOS_Cw5Tj",
        "outputId": "e1a7ad2e-23f9-4e3e-fd87-66469e05d465"
      },
      "execution_count": null,
      "outputs": [
        {
          "output_type": "stream",
          "name": "stdout",
          "text": [
            "{3}\n",
            "{3}\n"
          ]
        }
      ]
    },
    {
      "cell_type": "markdown",
      "source": [
        "3. `difference()` – Elements in `A` but Not in `B`.\n",
        "  - Returns a new set with elements in A that are not in `B`.\n",
        "  - Equivalent to `A - B`."
      ],
      "metadata": {
        "id": "RuI1dVcozUoZ"
      }
    },
    {
      "cell_type": "code",
      "source": [
        "print(A.difference(B))  # Output: {1, 2}\n",
        "print(A - B)  # Same result using -\n"
      ],
      "metadata": {
        "colab": {
          "base_uri": "https://localhost:8080/"
        },
        "id": "VU1ja3DnznwI",
        "outputId": "e8eb5cbc-15c1-49de-8118-88d6add7c108"
      },
      "execution_count": null,
      "outputs": [
        {
          "output_type": "stream",
          "name": "stdout",
          "text": [
            "{1, 2}\n",
            "{1, 2}\n"
          ]
        }
      ]
    },
    {
      "cell_type": "markdown",
      "source": [
        "4. `symmetric_difference()` – Elements in Either `A` or `B`, but **Not Both**\n",
        "\n",
        "  - Returns elements in either set, but not in both.\n",
        "  - Equivalent to `A ^ B`."
      ],
      "metadata": {
        "id": "S3smVBdIz40T"
      }
    },
    {
      "cell_type": "code",
      "source": [
        "print(A.symmetric_difference(B))  # Output: {1, 2, 4, 5}\n",
        "print(A ^ B)  # Same result using ^\n"
      ],
      "metadata": {
        "colab": {
          "base_uri": "https://localhost:8080/"
        },
        "id": "8eil_r6m0KVt",
        "outputId": "484045fa-a516-4d9b-d683-4b9204b744a9"
      },
      "execution_count": null,
      "outputs": [
        {
          "output_type": "stream",
          "name": "stdout",
          "text": [
            "{1, 2, 4, 5}\n",
            "{1, 2, 4, 5}\n"
          ]
        }
      ]
    },
    {
      "cell_type": "markdown",
      "source": [
        "### Set Comparison Methods\n",
        "\n",
        "These methods check relationships between sets. They focus on subset and superset relationships and, equality and inequality.\n",
        "\n",
        "1. `issubset()` – Check if `A `is a Subset of `B`\n",
        "  - Returns True if all elements of `A` are in `B`."
      ],
      "metadata": {
        "id": "U0PHejtr0Px4"
      }
    },
    {
      "cell_type": "code",
      "source": [
        "A = {1, 2, 3}\n",
        "B = {1, 2, 3, 4, 5}\n",
        "\n",
        "print(A.issubset(B))  # Output: True\n",
        "print(A <= B)  # Same result\n"
      ],
      "metadata": {
        "colab": {
          "base_uri": "https://localhost:8080/"
        },
        "id": "lwQqHaft1SNn",
        "outputId": "6259406f-eafa-499f-f1c3-a2398dcba04c"
      },
      "execution_count": null,
      "outputs": [
        {
          "output_type": "stream",
          "name": "stdout",
          "text": [
            "True\n",
            "True\n"
          ]
        }
      ]
    },
    {
      "cell_type": "markdown",
      "source": [
        "2. `issuperset()` – Check if `A` is a Superset of `B`.\n",
        "  - Returns `True` if `B` contains all elements of `A`."
      ],
      "metadata": {
        "id": "BTWRTGui1eaI"
      }
    },
    {
      "cell_type": "code",
      "source": [
        "print(B.issuperset(A))  # Output: True\n",
        "print(B >= A)  # Same result\n"
      ],
      "metadata": {
        "colab": {
          "base_uri": "https://localhost:8080/"
        },
        "id": "BXbLxHH61taH",
        "outputId": "cb2cb4c7-a0d3-4ac4-e46e-e4b7fa1c73fd"
      },
      "execution_count": null,
      "outputs": [
        {
          "output_type": "stream",
          "name": "stdout",
          "text": [
            "True\n",
            "True\n"
          ]
        }
      ]
    },
    {
      "cell_type": "markdown",
      "source": [
        "3. `isdisjoint()` – Check if Two Sets Have No Common Elements.\n",
        "  - Returns True if `A` and `C` have no shared elements."
      ],
      "metadata": {
        "id": "c42FnGUs2Iiu"
      }
    },
    {
      "cell_type": "code",
      "source": [
        "C = {6, 7, 8}\n",
        "print(A.isdisjoint(C))  # Output: True (no common elements)\n"
      ],
      "metadata": {
        "colab": {
          "base_uri": "https://localhost:8080/"
        },
        "id": "UhpRE8pR2bWg",
        "outputId": "46b2995a-7499-46c3-c78f-a13c7e815653"
      },
      "execution_count": null,
      "outputs": [
        {
          "output_type": "stream",
          "name": "stdout",
          "text": [
            "True\n"
          ]
        }
      ]
    },
    {
      "cell_type": "code",
      "source": [
        "print(A.isdisjoint(B))"
      ],
      "metadata": {
        "colab": {
          "base_uri": "https://localhost:8080/"
        },
        "id": "fCNvZq0pbEQb",
        "outputId": "55e74e78-1486-4258-a6d5-8fa6213f8cc9"
      },
      "execution_count": null,
      "outputs": [
        {
          "output_type": "stream",
          "name": "stdout",
          "text": [
            "False\n"
          ]
        }
      ]
    },
    {
      "cell_type": "code",
      "source": [
        " a = {1, 2, 3}\n",
        " b = {1, 2}\n",
        " c = {1, 2, 3}\n",
        "\n",
        " b < a # True (proper subset)\n"
      ],
      "metadata": {
        "colab": {
          "base_uri": "https://localhost:8080/"
        },
        "id": "k2pNwy_Z33eR",
        "outputId": "e394e14f-29cc-40e7-a54a-83b9b7e7e9f5"
      },
      "execution_count": null,
      "outputs": [
        {
          "output_type": "execute_result",
          "data": {
            "text/plain": [
              "True"
            ]
          },
          "metadata": {},
          "execution_count": 20
        }
      ]
    },
    {
      "cell_type": "code",
      "source": [
        "b <= a # True (subset)"
      ],
      "metadata": {
        "colab": {
          "base_uri": "https://localhost:8080/"
        },
        "id": "fAhaHfgb4COS",
        "outputId": "4b5f03e4-4667-406e-ac70-9af5e2317d2b"
      },
      "execution_count": null,
      "outputs": [
        {
          "output_type": "execute_result",
          "data": {
            "text/plain": [
              "True"
            ]
          },
          "metadata": {},
          "execution_count": 21
        }
      ]
    },
    {
      "cell_type": "code",
      "source": [
        "a == c # True"
      ],
      "metadata": {
        "colab": {
          "base_uri": "https://localhost:8080/"
        },
        "id": "zxXHL7ro4GcV",
        "outputId": "be111ee3-6dff-48fb-9db8-caffb311f1d7"
      },
      "execution_count": null,
      "outputs": [
        {
          "output_type": "execute_result",
          "data": {
            "text/plain": [
              "True"
            ]
          },
          "metadata": {},
          "execution_count": 22
        }
      ]
    },
    {
      "cell_type": "code",
      "source": [
        "a != b # True"
      ],
      "metadata": {
        "colab": {
          "base_uri": "https://localhost:8080/"
        },
        "id": "6AuUgRrc4KHS",
        "outputId": "8fade200-56ba-4219-8ed5-417642b2686b"
      },
      "execution_count": null,
      "outputs": [
        {
          "output_type": "execute_result",
          "data": {
            "text/plain": [
              "True"
            ]
          },
          "metadata": {},
          "execution_count": 23
        }
      ]
    },
    {
      "cell_type": "code",
      "source": [
        "a.isdisjoint({4, 5}) # True"
      ],
      "metadata": {
        "colab": {
          "base_uri": "https://localhost:8080/"
        },
        "id": "8EHqVitp4NJk",
        "outputId": "aa596e46-cac7-4291-b022-fb816e520cb2"
      },
      "execution_count": null,
      "outputs": [
        {
          "output_type": "execute_result",
          "data": {
            "text/plain": [
              "True"
            ]
          },
          "metadata": {},
          "execution_count": 24
        }
      ]
    },
    {
      "cell_type": "markdown",
      "source": [
        "#### Copying a Set\n",
        "\n",
        "To create a copy of a set:"
      ],
      "metadata": {
        "id": "wStKL3qm2nsZ"
      }
    },
    {
      "cell_type": "code",
      "source": [
        "original = {1, 2, 3}\n",
        "copy_set = original.copy()\n",
        "print(copy_set)  # Output: {1, 2, 3}\n"
      ],
      "metadata": {
        "colab": {
          "base_uri": "https://localhost:8080/"
        },
        "id": "u9de1t4u2unK",
        "outputId": "4b1f7461-7920-4e16-b66f-13a6699e5679"
      },
      "execution_count": null,
      "outputs": [
        {
          "output_type": "stream",
          "name": "stdout",
          "text": [
            "{1, 2, 3}\n"
          ]
        }
      ]
    },
    {
      "cell_type": "markdown",
      "source": [
        "### Set Comprehensions in Python\n",
        "\n",
        "Set comprehensions allow us to create sets dynamically using a concise, readable syntax.\n",
        "\n",
        "They work similarly to list comprehensions, but they use curly braces `{}` instead of square brackets `[]`.\n",
        "\n",
        "Create a set instead of a list.\n",
        "\n",
        "#### Basic Syntax\n",
        "`{expression for item in iterable if condition}`\n",
        "\n",
        "- `expression` → The value to add to the set.\n",
        "- `item` → Variable iterating through the iterable.\n",
        "- `iterable` → Any sequence (list, tuple, range, etc.).\n",
        "- `condition (optional)` → Filters elements based on a condition.\n",
        "\n",
        "\n"
      ],
      "metadata": {
        "id": "jjHLLOVj4oeS"
      }
    },
    {
      "cell_type": "code",
      "source": [
        "# Example: Creating a set from a list\n",
        "numbers = [1, 2, 2, 3, 4, 4, 5]\n",
        "unique_numbers = {n for n in numbers}\n",
        "print(unique_numbers)  # Output: {1, 2, 3, 4, 5}\n"
      ],
      "metadata": {
        "colab": {
          "base_uri": "https://localhost:8080/"
        },
        "id": "hvjkipXA6Y0q",
        "outputId": "9ee1d7dc-c718-4efa-ff07-488559896a1a"
      },
      "execution_count": 27,
      "outputs": [
        {
          "output_type": "stream",
          "name": "stdout",
          "text": [
            "{1, 2, 3, 4, 5}\n"
          ]
        }
      ]
    },
    {
      "cell_type": "markdown",
      "source": [
        "Removes duplicates because sets store only unique elements."
      ],
      "metadata": {
        "id": "_Hy0efWa6paL"
      }
    },
    {
      "cell_type": "markdown",
      "source": [
        "#### Set comprehensions with condition"
      ],
      "metadata": {
        "id": "1H9TL2_C61cd"
      }
    },
    {
      "cell_type": "code",
      "source": [
        "#Example: Unique letters not in 'abc'\n",
        "\n",
        "letters = {x for x in 'abracadabra' if x not in 'abc'}\n",
        "print(letters)"
      ],
      "metadata": {
        "colab": {
          "base_uri": "https://localhost:8080/"
        },
        "id": "R_ydMLwL4-Jb",
        "outputId": "14eeecb8-bca8-4c48-d3b8-59a6c04076d2"
      },
      "execution_count": 29,
      "outputs": [
        {
          "output_type": "stream",
          "name": "stdout",
          "text": [
            "{'r', 'd'}\n"
          ]
        }
      ]
    },
    {
      "cell_type": "code",
      "source": [
        "# Example: Includes only numbers that are even (n % 2 == 0).\n",
        "even_numbers = {n for n in range(10) if n % 2 == 0}\n",
        "print(even_numbers)  # Output: {0, 2, 4, 6, 8}\n"
      ],
      "metadata": {
        "colab": {
          "base_uri": "https://localhost:8080/"
        },
        "id": "L_fbKEVU7EmZ",
        "outputId": "e693308b-340c-451b-a99c-eb044b4df589"
      },
      "execution_count": 30,
      "outputs": [
        {
          "output_type": "stream",
          "name": "stdout",
          "text": [
            "{0, 2, 4, 6, 8}\n"
          ]
        }
      ]
    },
    {
      "cell_type": "code",
      "source": [
        "# Example: Transforming Elements in a Set\n",
        "# Squares of the numbers 1-5\n",
        "\n",
        "squares = { x ** 2 for x in range(1, 6)}\n",
        "print(squares)"
      ],
      "metadata": {
        "colab": {
          "base_uri": "https://localhost:8080/"
        },
        "id": "mS6n7-ow5PgW",
        "outputId": "58772a91-44c8-4a03-a134-fe87be73166a"
      },
      "execution_count": 32,
      "outputs": [
        {
          "output_type": "stream",
          "name": "stdout",
          "text": [
            "{1, 4, 9, 16, 25}\n"
          ]
        }
      ]
    },
    {
      "cell_type": "code",
      "source": [
        "# Example: Removing Vowels from a String\n",
        "# Converts the string to lowercase.\n",
        "#Removes vowels while keeping unique consonants\n",
        "\n",
        "sentence = \"Hello World\"\n",
        "vowels = {'a', 'e', 'i', 'o', 'u'}\n",
        "\n",
        "consonants = {char for char in sentence.lower() if char not in vowels and char.isalpha()}\n",
        "print(consonants)  # Output: {'h', 'l', 'r', 'd', 'w'}\n"
      ],
      "metadata": {
        "colab": {
          "base_uri": "https://localhost:8080/"
        },
        "id": "BK3vvDBY7lfP",
        "outputId": "16f21a65-3698-4be1-e448-c78c6ab6d21e"
      },
      "execution_count": null,
      "outputs": [
        {
          "output_type": "stream",
          "name": "stdout",
          "text": [
            "{'w', 'h', 'r', 'l', 'd'}\n"
          ]
        }
      ]
    },
    {
      "cell_type": "code",
      "source": [
        "# Example: Using Set Comprehension with Tuples\n",
        "\n",
        "words = [\"apple\", \"banana\", \"cherry\"]\n",
        "word_lengths = {len(word) for word in words}\n",
        "print(word_lengths)  # Output: {5, 6}\n",
        "\n",
        "# Extracts the length of each word.\n",
        "# The result is a set of unique lengths.\n"
      ],
      "metadata": {
        "colab": {
          "base_uri": "https://localhost:8080/"
        },
        "id": "Hu27Ox5X8GKY",
        "outputId": "2783d31c-35b2-4cc8-f153-a55113d6e8e1"
      },
      "execution_count": null,
      "outputs": [
        {
          "output_type": "stream",
          "name": "stdout",
          "text": [
            "{5, 6}\n"
          ]
        }
      ]
    },
    {
      "cell_type": "markdown",
      "source": [
        "#### Nested Set Comprehension\n",
        "\n",
        "Set comprehensions can also be nested, similar to nested loops/ lists."
      ],
      "metadata": {
        "id": "Ov12rJ9A9ELO"
      }
    },
    {
      "cell_type": "code",
      "source": [
        "pairs = {(x, y) for x in range(3) for y in range(3) if x != y}\n",
        "print(pairs)\n",
        "# Output: {(0, 1), (0, 2), (1, 0), (1, 2), (2, 0), (2, 1)}\n",
        "\n",
        "# Creates pairs (x, y) where x ≠ y"
      ],
      "metadata": {
        "colab": {
          "base_uri": "https://localhost:8080/"
        },
        "id": "MFhtSFOW9Ntn",
        "outputId": "fa768ab2-be17-4883-cdc2-455887e597fd"
      },
      "execution_count": null,
      "outputs": [
        {
          "output_type": "stream",
          "name": "stdout",
          "text": [
            "{(0, 1), (1, 2), (2, 1), (2, 0), (0, 2), (1, 0)}\n"
          ]
        }
      ]
    },
    {
      "cell_type": "markdown",
      "source": [
        "#### Advantages of Set Comprehensions\n",
        "\n",
        "✅ Faster than loops for creating sets.\n",
        "\n",
        "✅ More readable and concise.\n",
        "\n",
        "✅ Automatically removes duplicates.\n",
        "\n",
        "#### When to Use Set Comprehensions?\n",
        "\n",
        "- When you need unique values from an iterable.\n",
        "- When you want a faster, cleaner alternative to loops.\n",
        "- When applying transformations or filters on a sequence"
      ],
      "metadata": {
        "id": "9aQECWfz90l7"
      }
    },
    {
      "cell_type": "markdown",
      "source": [
        "#### Exercise: Extracting Unique Words from a Text File\n",
        "\n",
        "Imagine you're analyzing a large text file (e.g., an article, book, or log file), and you need to extract all unique words while ignoring case and punctuation.\n",
        "\n",
        "**Problem Statement**\n",
        "\n",
        "✅ Extract all unique words from a text.\n",
        "\n",
        "✅ Ignore case sensitivity (\"Python\" and \"python\" should be treated the same).\n",
        "\n",
        "✅ Remove punctuation and special characters.\n",
        "\n",
        "\n",
        "**Hint**: Use/ take note of the following\n",
        "- `text.split()` → Splits the text into words.\n",
        "- `word.strip(string.punctuation)` → Removes punctuation like ! , . from each word.\n",
        "- `word.lower()` → Converts words to lowercase for uniformity.\n",
        "- Set comprehension {...} ensures only unique words are stored."
      ],
      "metadata": {
        "id": "YF36gJ-a-kph"
      }
    },
    {
      "cell_type": "code",
      "source": [
        "import string\n",
        "\n",
        "# Sample text\n",
        "text = \"\"\"Python is amazing! Python allows for quick development.\n",
        "          Development with Python is fun and efficient.\"\"\"\n",
        "\n",
        "# Clean and extract unique words\n",
        "unique_words = #________ complete this section using set comprehension\n",
        "\n",
        "print(unique_words)\n"
      ],
      "metadata": {
        "id": "BwsIRd4t-1Q7"
      },
      "execution_count": null,
      "outputs": []
    },
    {
      "cell_type": "markdown",
      "source": [
        "### When to Use Sets?\n",
        "\n",
        "- Removing duplicates from a list.\n",
        "- Fast lookups (`x` in set is faster than `x` in list).\n",
        "- Mathematical operations like union, intersection, etc.\n",
        "- Efficient membership testing in large datasets.\n"
      ],
      "metadata": {
        "id": "C04ytPR42-gu"
      }
    },
    {
      "cell_type": "markdown",
      "source": [
        "![image.png](data:image/png;base64,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)"
      ],
      "metadata": {
        "id": "677iqkqB3XVM"
      }
    },
    {
      "cell_type": "markdown",
      "source": [
        "## Dictionaries in Python\n",
        "\n",
        "A dictionary is a collection of **key-value** pairs.\n",
        "\n",
        "Each key is unique and it maps to a corresponding value.\n",
        "\n",
        "Dictionaries are unordered, i.e., the order of key-value pairs is not guaranteed. But Python 3.7 and later versions, dictionaries maintain the insertion order of items."
      ],
      "metadata": {
        "id": "-qFvedje3aH4"
      }
    },
    {
      "cell_type": "markdown",
      "source": [
        "### Key features of a dictionary\n",
        "\n",
        "- **Key-value pairs**: Each entry consosts of a key and value. Key must be unique and immutable (e.g., strings, numbers, or tuples), while value can be any Python object (e.g. lists, other dictionaries, sets, etc)\n",
        "\n",
        "- **Accessing values**: by referencing their associated keys.\n",
        "\n",
        "- **Mutability**: Dictionaries are mutable, i.e., we can add, remove or change items.\n",
        "\n",
        "### Syntax\n",
        "\n",
        "```\n",
        "# Create a dictionary\n",
        "\n",
        "my_dict = {\n",
        "  \"name\": \"Martin\",\n",
        "  \"age\": 27,\n",
        "  \"city\": \"Cape Town\"\n",
        "}\n",
        "```"
      ],
      "metadata": {
        "id": "T6I34NlEg-9d"
      }
    },
    {
      "cell_type": "code",
      "source": [
        "# Create a dictionary\n",
        "\n",
        "my_dict = {\n",
        "  \"name\": \"Martin\",\n",
        "  \"age\": 27,\n",
        "  \"city\": \"Cape Town\"\n",
        "}\n",
        "\n",
        "print(my_dict)"
      ],
      "metadata": {
        "colab": {
          "base_uri": "https://localhost:8080/"
        },
        "id": "zjBM-rqVih8d",
        "outputId": "51a16881-3f9b-433f-f15f-fce695ceee92"
      },
      "execution_count": 33,
      "outputs": [
        {
          "output_type": "stream",
          "name": "stdout",
          "text": [
            "{'name': 'Martin', 'age': 27, 'city': 'Cape Town'}\n"
          ]
        }
      ]
    },
    {
      "cell_type": "markdown",
      "source": [
        "### Common Operations in Dictionaries\n",
        "\n",
        "#### Accessing Values\n",
        "\n",
        "- We can access values using keys"
      ],
      "metadata": {
        "id": "iPEScOGhisp6"
      }
    },
    {
      "cell_type": "code",
      "source": [
        "print(my_dict[\"name\"])"
      ],
      "metadata": {
        "colab": {
          "base_uri": "https://localhost:8080/"
        },
        "id": "ogm-XGpii3xE",
        "outputId": "a61cb6c4-32d3-4b72-9e38-6af0fcbedf49"
      },
      "execution_count": 34,
      "outputs": [
        {
          "output_type": "stream",
          "name": "stdout",
          "text": [
            "Martin\n"
          ]
        }
      ]
    },
    {
      "cell_type": "markdown",
      "source": [
        "#### Adding or Updating Key-Value Pairs"
      ],
      "metadata": {
        "id": "nCuQ-hUGjCl4"
      }
    },
    {
      "cell_type": "code",
      "source": [
        "my_dict[\"email\"] = \"martin.van.buren@myownpersonaldomain.com\" # add a new key-value pair\n",
        "my_dict[\"age\"] = 25 # Updates the value for the existing key \"age\"\n",
        "print(my_dict)"
      ],
      "metadata": {
        "colab": {
          "base_uri": "https://localhost:8080/"
        },
        "id": "83YrX8j9jLOE",
        "outputId": "1b6a7b99-a941-45ec-f36e-ebb7185c2ea5"
      },
      "execution_count": 35,
      "outputs": [
        {
          "output_type": "stream",
          "name": "stdout",
          "text": [
            "{'name': 'Martin', 'age': 25, 'city': 'Cape Town', 'email': 'martin.van.buren@myownpersonaldomain.com'}\n"
          ]
        }
      ]
    },
    {
      "cell_type": "markdown",
      "source": [
        "#### Removing items"
      ],
      "metadata": {
        "id": "V7Bxj12Cjx0y"
      }
    },
    {
      "cell_type": "code",
      "source": [
        "del my_dict[\"city\"] # Removes the key city and its value\n",
        "print(my_dict)"
      ],
      "metadata": {
        "colab": {
          "base_uri": "https://localhost:8080/"
        },
        "id": "IjcL7vqqkId6",
        "outputId": "fa23059f-fb80-4405-a1e0-5def1a95cc99"
      },
      "execution_count": 36,
      "outputs": [
        {
          "output_type": "stream",
          "name": "stdout",
          "text": [
            "{'name': 'Martin', 'age': 25, 'email': 'martin.van.buren@myownpersonaldomain.com'}\n"
          ]
        }
      ]
    },
    {
      "cell_type": "markdown",
      "source": [
        "#### Checking for a Key"
      ],
      "metadata": {
        "id": "F8RbFO5PkZ1O"
      }
    },
    {
      "cell_type": "code",
      "source": [
        "print(\"age\" in my_dict)\n",
        "\n",
        "print('city' in my_dict)"
      ],
      "metadata": {
        "colab": {
          "base_uri": "https://localhost:8080/"
        },
        "id": "wmyZFYcVkfxC",
        "outputId": "29944f80-082a-46b3-846c-3875820abb53"
      },
      "execution_count": 38,
      "outputs": [
        {
          "output_type": "stream",
          "name": "stdout",
          "text": [
            "True\n",
            "False\n"
          ]
        }
      ]
    },
    {
      "cell_type": "markdown",
      "source": [
        "#### Iterate through a dictionary"
      ],
      "metadata": {
        "id": "3ercN53Nkwar"
      }
    },
    {
      "cell_type": "code",
      "source": [
        "for key, value in my_dict.items():\n",
        "  print(key, value)"
      ],
      "metadata": {
        "colab": {
          "base_uri": "https://localhost:8080/"
        },
        "id": "Rr37aLsAk0vf",
        "outputId": "f604b8f7-094b-423c-9ab7-4e19da636d53"
      },
      "execution_count": 39,
      "outputs": [
        {
          "output_type": "stream",
          "name": "stdout",
          "text": [
            "name Martin\n",
            "age 25\n",
            "email martin.van.buren@myownpersonaldomain.com\n"
          ]
        }
      ]
    },
    {
      "cell_type": "markdown",
      "source": [
        "#### Getting Keys or Values"
      ],
      "metadata": {
        "id": "Sx_M0_AvlHan"
      }
    },
    {
      "cell_type": "code",
      "source": [
        "print(my_dict.keys())\n",
        "print(my_dict.values())"
      ],
      "metadata": {
        "colab": {
          "base_uri": "https://localhost:8080/"
        },
        "id": "mzmJEfkzlOH1",
        "outputId": "1eec8634-22ee-4925-e094-49ddc014b7d7"
      },
      "execution_count": 40,
      "outputs": [
        {
          "output_type": "stream",
          "name": "stdout",
          "text": [
            "dict_keys(['name', 'age', 'email'])\n",
            "dict_values(['Martin', 25, 'martin.van.buren@myownpersonaldomain.com'])\n"
          ]
        }
      ]
    },
    {
      "cell_type": "markdown",
      "source": [
        "#### Example of Dictionary Usage"
      ],
      "metadata": {
        "id": "QVNf7KFoldF3"
      }
    },
    {
      "cell_type": "code",
      "source": [
        "# Create a dictionary with some initial data\n",
        "\n",
        "student = {\n",
        "    \"name\": \"Edel Geek\",\n",
        "    \"Reg_No\": \"ENG - 211 - 075/ 2025\",\n",
        "    \"age\": 19,\n",
        "    \"courses\": ['ODE', 'Computer Programming II','Statistics']\n",
        "}\n",
        "print(student)\n"
      ],
      "metadata": {
        "colab": {
          "base_uri": "https://localhost:8080/"
        },
        "id": "49W_k6dUln4u",
        "outputId": "25525b79-7ce7-404e-f64c-6637c798f1ba"
      },
      "execution_count": 43,
      "outputs": [
        {
          "output_type": "stream",
          "name": "stdout",
          "text": [
            "{'name': 'Edel Geek', 'Reg_No': 'ENG - 211 - 075/ 2025', 'age': 19, 'courses': ['ODE', 'Computer Programming II', 'Statistics']}\n"
          ]
        }
      ]
    },
    {
      "cell_type": "code",
      "source": [
        "# Access a value\n",
        "print(student[\"name\"])"
      ],
      "metadata": {
        "colab": {
          "base_uri": "https://localhost:8080/"
        },
        "id": "YDWkbWarmwdH",
        "outputId": "5d86efd3-2eae-4aaf-f966-39e1ea4ee6ca"
      },
      "execution_count": 44,
      "outputs": [
        {
          "output_type": "stream",
          "name": "stdout",
          "text": [
            "Edel Geek\n"
          ]
        }
      ]
    },
    {
      "cell_type": "code",
      "source": [
        "# Adding a new value\n",
        "student[\"graduation_year\"] = 2028\n",
        "\n",
        "# Modify an existing value\n",
        "student[\"age\"] = 18\n",
        "\n",
        "print(student)"
      ],
      "metadata": {
        "colab": {
          "base_uri": "https://localhost:8080/"
        },
        "id": "qIANJQI3m3Ww",
        "outputId": "a19eb55e-3830-42fc-b271-6ee6e317710d"
      },
      "execution_count": 46,
      "outputs": [
        {
          "output_type": "stream",
          "name": "stdout",
          "text": [
            "{'name': 'Edel Geek', 'Reg_No': 'ENG - 211 - 075/ 2025', 'age': 18, 'courses': ['ODE', 'Computer Programming II', 'Statistics'], 'graduation_year': 2028}\n"
          ]
        }
      ]
    },
    {
      "cell_type": "code",
      "source": [
        "# Check if a key exists\n",
        "\n",
        "if \"courses\" in student:\n",
        "  print(\"Student has courses\")"
      ],
      "metadata": {
        "colab": {
          "base_uri": "https://localhost:8080/"
        },
        "id": "MFz5z80QnWC2",
        "outputId": "aa45f194-3a16-47be-d4cc-6fac7dcfff8e"
      },
      "execution_count": 47,
      "outputs": [
        {
          "output_type": "stream",
          "name": "stdout",
          "text": [
            "Student has courses\n"
          ]
        }
      ]
    },
    {
      "cell_type": "code",
      "source": [
        "# Remove a key-value\n",
        "del student[\"age\"]\n",
        "\n",
        "print(student)"
      ],
      "metadata": {
        "colab": {
          "base_uri": "https://localhost:8080/"
        },
        "id": "hjClxzAennCG",
        "outputId": "8e50fada-779c-4c81-b571-e48fcffc0358"
      },
      "execution_count": 48,
      "outputs": [
        {
          "output_type": "stream",
          "name": "stdout",
          "text": [
            "{'name': 'Edel Geek', 'Reg_No': 'ENG - 211 - 075/ 2025', 'courses': ['ODE', 'Computer Programming II', 'Statistics'], 'graduation_year': 2028}\n"
          ]
        }
      ]
    },
    {
      "cell_type": "markdown",
      "source": [
        "Dictionaries are fundamental data structures in Python and are used extensively for\n",
        "- efficient lookups\n",
        "- storing configurations\n",
        "- organising data in many programs"
      ],
      "metadata": {
        "id": "wvwgyQQgn1oT"
      }
    },
    {
      "cell_type": "markdown",
      "source": [
        "### Creating Dictionaries\n",
        "\n",
        "#### Using the Curly Braces {}\n",
        "The most common method is using the curly braces."
      ],
      "metadata": {
        "id": "L3zpoOBzqUmO"
      }
    },
    {
      "cell_type": "code",
      "source": [
        "car_model = {\n",
        "    \"manufacturer\": \"Toyota\",\n",
        "    \"model\" : \"Toyota Corolla\",\n",
        "    \"year\": 2009,\n",
        "}\n",
        "print(car_model)"
      ],
      "metadata": {
        "colab": {
          "base_uri": "https://localhost:8080/"
        },
        "id": "S9r_kl6RqsYq",
        "outputId": "426a9e81-94b9-4650-fc4c-2e34f6a9e619"
      },
      "execution_count": 49,
      "outputs": [
        {
          "output_type": "stream",
          "name": "stdout",
          "text": [
            "{'manufacturer': 'Toyota', 'model': 'Toyota Corolla', 'year': 2009}\n"
          ]
        }
      ]
    },
    {
      "cell_type": "markdown",
      "source": [
        "#### Using the `dict()` constructor\n",
        "\n",
        "This works well when your keys are valid Python identifiers (like variable names)"
      ],
      "metadata": {
        "id": "HyOzWlU9rHY-"
      }
    },
    {
      "cell_type": "code",
      "source": [
        "person = dict(name = \"Edel\", city = \"Nairobi\", age = 19)\n",
        "print(person)"
      ],
      "metadata": {
        "colab": {
          "base_uri": "https://localhost:8080/"
        },
        "id": "-VfPPu8XraBm",
        "outputId": "4a4a8f54-d867-41d4-8fab-f7143602a407"
      },
      "execution_count": 50,
      "outputs": [
        {
          "output_type": "stream",
          "name": "stdout",
          "text": [
            "{'name': 'Edel', 'city': 'Nairobi', 'age': 19}\n"
          ]
        }
      ]
    },
    {
      "cell_type": "markdown",
      "source": [
        "#### From a list of Tuples\n",
        "\n",
        "Useful when you have data in pair format\n"
      ],
      "metadata": {
        "id": "KUpA4WsbrrAP"
      }
    },
    {
      "cell_type": "code",
      "source": [
        "person = dict([(\"name\", \"Kerry\"), (\"age\", 19), (\"city\", \"Nairobi\")])\n",
        "print(person)"
      ],
      "metadata": {
        "colab": {
          "base_uri": "https://localhost:8080/"
        },
        "id": "J0xa4rSbr6Zp",
        "outputId": "07fed03a-8eae-44e6-dadd-e3d58b58994c"
      },
      "execution_count": 51,
      "outputs": [
        {
          "output_type": "stream",
          "name": "stdout",
          "text": [
            "{'name': 'Kerry', 'age': 19, 'city': 'Nairobi'}\n"
          ]
        }
      ]
    },
    {
      "cell_type": "markdown",
      "source": [
        "#### Using Dictionary Comprehensions\n",
        "\n",
        "This is a compact way to construct dictionaries especially with loops."
      ],
      "metadata": {
        "id": "sGalT5tOsKyd"
      }
    },
    {
      "cell_type": "code",
      "source": [
        "squares = {x: x*x for x in range(6)}\n",
        "print(squares)"
      ],
      "metadata": {
        "colab": {
          "base_uri": "https://localhost:8080/"
        },
        "id": "oKf0P1zFsX2_",
        "outputId": "5c9c211a-aee8-45eb-91f7-bd952b456752"
      },
      "execution_count": 52,
      "outputs": [
        {
          "output_type": "stream",
          "name": "stdout",
          "text": [
            "{0: 0, 1: 1, 2: 4, 3: 9, 4: 16, 5: 25}\n"
          ]
        }
      ]
    },
    {
      "cell_type": "code",
      "source": [
        "# Filtering with comprehension\n",
        "even_squares = {k: v for k, v in squares.items() if k % 2 == 0}\n",
        "print(even_squares)"
      ],
      "metadata": {
        "colab": {
          "base_uri": "https://localhost:8080/"
        },
        "id": "fXDXGz0ktMP4",
        "outputId": "1d0e67b4-94ba-463b-bf5f-86f2752575a2"
      },
      "execution_count": 54,
      "outputs": [
        {
          "output_type": "stream",
          "name": "stdout",
          "text": [
            "{0: 0, 2: 4, 4: 16}\n"
          ]
        }
      ]
    },
    {
      "cell_type": "markdown",
      "source": [
        "#### Using `zip()`\n",
        "\n",
        "Great for merging two lists into a dictionary.\n"
      ],
      "metadata": {
        "id": "Ac2Ro1h-0Olm"
      }
    },
    {
      "cell_type": "code",
      "source": [
        "keys = [\"name\", \"age\", \"city\"]\n",
        "values = [\"Martin\", 27, \"Cape Town\"]\n",
        "\n",
        "person = dict(zip(keys, values))\n",
        "print(person)"
      ],
      "metadata": {
        "colab": {
          "base_uri": "https://localhost:8080/"
        },
        "id": "boxVun3z0nTj",
        "outputId": "9b313cb2-3de7-4253-9050-8974d31742ff"
      },
      "execution_count": 55,
      "outputs": [
        {
          "output_type": "stream",
          "name": "stdout",
          "text": [
            "{'name': 'Martin', 'age': 27, 'city': 'Cape Town'}\n"
          ]
        }
      ]
    },
    {
      "cell_type": "markdown",
      "source": [
        "#### Creating an Empty Dictionary\n",
        "\n",
        "Mostly we do this to initialise and fill it later"
      ],
      "metadata": {
        "id": "kFbyUHrV09d9"
      }
    },
    {
      "cell_type": "code",
      "source": [
        "empty_dict = {}\n",
        "print(empty_dict)\n",
        "\n",
        "# or\n",
        "\n",
        "empty_dict = dict()\n",
        "print(empty_dict)"
      ],
      "metadata": {
        "colab": {
          "base_uri": "https://localhost:8080/"
        },
        "id": "VTQYL5Up1NOn",
        "outputId": "165d1cf1-74ac-4930-c7c0-77ab7732349f"
      },
      "execution_count": 57,
      "outputs": [
        {
          "output_type": "stream",
          "name": "stdout",
          "text": [
            "{}\n",
            "{}\n"
          ]
        }
      ]
    },
    {
      "cell_type": "markdown",
      "source": [
        "### Nested Dictionaries\n",
        "\n",
        "You can store dictionaries inside other dictionaries. It is very useful for structured data like JSON."
      ],
      "metadata": {
        "id": "X6Sm7zrc191q"
      }
    },
    {
      "cell_type": "code",
      "source": [
        "student = {\n",
        "    \"name\": \"Denis\",\n",
        "    \"age\" : 23,\n",
        "    \"grades\" : {\n",
        "        \"ODE\": 90,\n",
        "        \"Computer Programming II\": 85,\n",
        "        \"Statistics\": 95\n",
        "    },\n",
        "    \"address\": {\n",
        "        \"street\": \"123 Main St\",\n",
        "        \"city\": \"Nairobi\",\n",
        "        \"country\": \"Kenya\"\n",
        "    }\n",
        "    }\n",
        "print(student)"
      ],
      "metadata": {
        "colab": {
          "base_uri": "https://localhost:8080/"
        },
        "id": "4IsvUnUq2pK1",
        "outputId": "d28d43c5-f183-471f-e9e2-7f242459c174"
      },
      "execution_count": 58,
      "outputs": [
        {
          "output_type": "stream",
          "name": "stdout",
          "text": [
            "{'name': 'Denis', 'age': 23, 'grades': {'ODE': 90, 'Computer Programming II': 85, 'Statistics': 95}, 'address': {'street': '123 Main St', 'city': 'Nairobi', 'country': 'Kenya'}}\n"
          ]
        }
      ]
    },
    {
      "cell_type": "code",
      "source": [
        "# Access nested data\n",
        "print(student[\"grades\"][\"ODE\"])\n",
        "print(student[\"address\"][\"city\"])"
      ],
      "metadata": {
        "colab": {
          "base_uri": "https://localhost:8080/"
        },
        "id": "O1RAIMpb3hPE",
        "outputId": "07544c78-1720-439a-c49e-8faa9a80ca18"
      },
      "execution_count": 59,
      "outputs": [
        {
          "output_type": "stream",
          "name": "stdout",
          "text": [
            "90\n",
            "Nairobi\n"
          ]
        }
      ]
    },
    {
      "cell_type": "markdown",
      "source": [
        "### `dict.get()` with default values\n",
        "\n",
        "Avoids errors when a key might not exist.\n"
      ],
      "metadata": {
        "id": "3bIXuWIx34er"
      }
    },
    {
      "cell_type": "code",
      "source": [
        "person = {\"name\": \"Martin\", \"age\": 27}\n",
        "# Normally this would raise a KeyError\n",
        "# print(person[\"city\"])\n",
        "\n",
        "# But using get() avoids that\n",
        "\n",
        "print(person.get(\"city\", \"Unknown\"))"
      ],
      "metadata": {
        "colab": {
          "base_uri": "https://localhost:8080/"
        },
        "id": "siwTf0Gg4Kqr",
        "outputId": "302d4281-0d05-4be4-b582-3cf886180ba7"
      },
      "execution_count": 60,
      "outputs": [
        {
          "output_type": "stream",
          "name": "stdout",
          "text": [
            "Unknown\n"
          ]
        }
      ]
    },
    {
      "cell_type": "markdown",
      "source": [
        "### `collections.defaultdict`\n",
        "\n",
        "This allows you to automatically assign default values to the missing keys.\n",
        "\n",
        "We must import it first."
      ],
      "metadata": {
        "id": "gHjAB9Nu4uA9"
      }
    },
    {
      "cell_type": "code",
      "source": [
        "from collections import defaultdict\n",
        "\n",
        "# This creates a dictionary where missing keys return 0 by default\n",
        "\n",
        "counts = defaultdict(int)\n",
        "print(counts)\n",
        "\n",
        "counts['apples'] += 1\n",
        "counts['oranges'] += 2\n",
        "counts['bananas'] += 3\n",
        "\n",
        "print(counts)\n"
      ],
      "metadata": {
        "colab": {
          "base_uri": "https://localhost:8080/"
        },
        "id": "Q6mMHypm5cxb",
        "outputId": "adb9f472-109e-44d6-a4ec-e528569fd8f6"
      },
      "execution_count": 62,
      "outputs": [
        {
          "output_type": "stream",
          "name": "stdout",
          "text": [
            "defaultdict(<class 'int'>, {})\n",
            "defaultdict(<class 'int'>, {'apples': 1, 'oranges': 2, 'bananas': 3})\n"
          ]
        }
      ]
    },
    {
      "cell_type": "markdown",
      "source": [
        "You can also use a different default, like a list"
      ],
      "metadata": {
        "id": "xgyeypa76H4O"
      }
    },
    {
      "cell_type": "code",
      "source": [
        "from collections import defaultdict\n",
        "\n",
        "grades = defaultdict(list)\n",
        "grades[\"Alice\"].append(90)\n",
        "grades[\"Alice\"].append(85)\n",
        "\n",
        "print(grades)"
      ],
      "metadata": {
        "colab": {
          "base_uri": "https://localhost:8080/"
        },
        "id": "tToPAQQw6N2_",
        "outputId": "47dcf81a-62e1-4b7b-f652-1d9b23ba0025"
      },
      "execution_count": 64,
      "outputs": [
        {
          "output_type": "stream",
          "name": "stdout",
          "text": [
            "defaultdict(<class 'list'>, {'Alice': [90, 85]})\n"
          ]
        }
      ]
    },
    {
      "cell_type": "markdown",
      "source": [
        "## --- Student Grades Tracker ---\n",
        "\n",
        "### Task 1: Create a nested dictionary\n"
      ],
      "metadata": {
        "id": "RI0juAAO8OTN"
      }
    },
    {
      "cell_type": "code",
      "source": [
        "students = {\n",
        "    \"Alice\": {\n",
        "        \"Math\": 90,\n",
        "        \"English\": 85\n",
        "    },\n",
        "    \"Bob\": {\n",
        "        \"Math\": 78,\n",
        "        \"English\": 88\n",
        "    }\n",
        "}\n",
        "\n",
        "print(\"=== Task 1: Student Dictionary ===\")\n",
        "print(students)\n",
        "print()\n",
        "\n"
      ],
      "metadata": {
        "id": "iflc_mYx9Ik6"
      },
      "execution_count": null,
      "outputs": []
    },
    {
      "cell_type": "markdown",
      "source": [
        "### Task 2: Safely access a student's Science grade using .get()\n"
      ],
      "metadata": {
        "id": "IO6iVhS39Vjn"
      }
    },
    {
      "cell_type": "code",
      "source": [
        "print(\"=== Task 2: Access Alice's Science Grade ===\")\n",
        "science_grade = students[\"Alice\"].get(\"Science\", \"No grade\")\n",
        "print(\"Alice's Science grade:\", science_grade)\n",
        "print()\n",
        "\n"
      ],
      "metadata": {
        "id": "SpCLqqeB9odd"
      },
      "execution_count": null,
      "outputs": []
    },
    {
      "cell_type": "markdown",
      "source": [
        "### Task 3: Use defaultdict to store multiple grades\n"
      ],
      "metadata": {
        "id": "oohbZzTu9w5f"
      }
    },
    {
      "cell_type": "code",
      "source": [
        "from collections import defaultdict\n",
        "\n",
        "term_grades = defaultdict(list)\n",
        "\n"
      ],
      "metadata": {
        "id": "L6AEF_VB-VTb"
      },
      "execution_count": null,
      "outputs": []
    },
    {
      "cell_type": "markdown",
      "source": [
        "### Add multiple grades for each student\n"
      ],
      "metadata": {
        "id": "zA4EH0QB-drX"
      }
    },
    {
      "cell_type": "code",
      "source": [
        "term_grades[\"Alice\"].append(90)\n",
        "term_grades[\"Alice\"].append(95)\n",
        "term_grades[\"Bob\"].append(78)\n",
        "term_grades[\"Bob\"].append(82)\n",
        "\n",
        "print(\"=== Task 3: Term Grades with defaultdict ===\")\n",
        "for student, grades in term_grades.items():\n",
        "    print(f\"{student}: {grades}\")\n",
        "print()"
      ],
      "metadata": {
        "id": "7DyGf4GZ-gfD"
      },
      "execution_count": null,
      "outputs": []
    },
    {
      "cell_type": "markdown",
      "source": [
        "### Bonus Challenge: Compute and print average grades\n"
      ],
      "metadata": {
        "id": "fYQG8C4E-kSk"
      }
    },
    {
      "cell_type": "code",
      "source": [
        "print(\"=== Bonus: Average Grades ===\")\n",
        "for student, grades in term_grades.items():\n",
        "    avg = sum(grades) / len(grades)\n",
        "    print(f\"{student}'s average: {avg:.2f}\")\n"
      ],
      "metadata": {
        "id": "J52fclm2-nhd"
      },
      "execution_count": null,
      "outputs": []
    }
  ]
}