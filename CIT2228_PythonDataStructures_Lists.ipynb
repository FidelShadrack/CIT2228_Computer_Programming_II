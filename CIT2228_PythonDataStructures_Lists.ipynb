{
  "nbformat": 4,
  "nbformat_minor": 0,
  "metadata": {
    "colab": {
      "provenance": [],
      "authorship_tag": "ABX9TyNGjl7K8sVYmR8QNThesB+q",
      "include_colab_link": true
    },
    "kernelspec": {
      "name": "python3",
      "display_name": "Python 3"
    },
    "language_info": {
      "name": "python"
    }
  },
  "cells": [
    {
      "cell_type": "markdown",
      "metadata": {
        "id": "view-in-github",
        "colab_type": "text"
      },
      "source": [
        "<a href=\"https://colab.research.google.com/github/Wachiyem/CIT2228_Computer_Programming_II/blob/main/CIT2228_PythonDataStructures_Lists.ipynb\" target=\"_parent\"><img src=\"https://colab.research.google.com/assets/colab-badge.svg\" alt=\"Open In Colab\"/></a>"
      ]
    },
    {
      "cell_type": "markdown",
      "source": [
        "# Python Data Structures: Lists, Tuples, Sets, and Dictionaries\n",
        "\n",
        "## Lists\n",
        "\n",
        "- mutable and ordered sequences\n",
        "- can have mixed data types\n"
      ],
      "metadata": {
        "id": "SemWEnNZNdJL"
      }
    },
    {
      "cell_type": "code",
      "source": [
        "numbers = [1, 2, 3, 5, 8, 11, 13] # List with integers\n",
        "print(numbers)"
      ],
      "metadata": {
        "colab": {
          "base_uri": "https://localhost:8080/"
        },
        "id": "FyhePPtUNvWJ",
        "outputId": "c3b38b65-15e9-4c74-d8bf-ec290e95ee2e"
      },
      "execution_count": 1,
      "outputs": [
        {
          "output_type": "stream",
          "name": "stdout",
          "text": [
            "[1, 2, 3, 5, 8, 11, 13]\n"
          ]
        }
      ]
    },
    {
      "cell_type": "code",
      "source": [
        "names = [\"Adan\", \"Maurice\", \"Issack\", \"Jackline\"] # List with only strings\n",
        "print(names)"
      ],
      "metadata": {
        "colab": {
          "base_uri": "https://localhost:8080/"
        },
        "id": "EN0AkoveOCPQ",
        "outputId": "43fe487f-d67c-4581-c175-977c499b12f5"
      },
      "execution_count": 2,
      "outputs": [
        {
          "output_type": "stream",
          "name": "stdout",
          "text": [
            "['Adan', 'Maurice', 'Issack', 'Jackline']\n"
          ]
        }
      ]
    },
    {
      "cell_type": "code",
      "source": [
        "mixed = [1, 'cat', 19.4, True] # List with mixed data types\n",
        "print(mixed)"
      ],
      "metadata": {
        "colab": {
          "base_uri": "https://localhost:8080/"
        },
        "id": "r2vTBrq7OWKu",
        "outputId": "3d87b8a5-5a12-49a4-84e3-8f79fb589adc"
      },
      "execution_count": 3,
      "outputs": [
        {
          "output_type": "stream",
          "name": "stdout",
          "text": [
            "[1, 'cat', 19.4, True]\n"
          ]
        }
      ]
    },
    {
      "cell_type": "markdown",
      "source": [
        "### List indexing and slicing\n"
      ],
      "metadata": {
        "id": "-EksEcy1PRwH"
      }
    },
    {
      "cell_type": "code",
      "source": [
        "mixed[0]\n"
      ],
      "metadata": {
        "colab": {
          "base_uri": "https://localhost:8080/"
        },
        "id": "xdQEzPE8PaTp",
        "outputId": "a263f5c2-5a2b-4afb-840a-73b83a5544d4"
      },
      "execution_count": 6,
      "outputs": [
        {
          "output_type": "execute_result",
          "data": {
            "text/plain": [
              "1"
            ]
          },
          "metadata": {},
          "execution_count": 6
        }
      ]
    },
    {
      "cell_type": "code",
      "source": [
        "mixed[2]"
      ],
      "metadata": {
        "colab": {
          "base_uri": "https://localhost:8080/"
        },
        "id": "TcpYWmMYPklv",
        "outputId": "0f38bb00-a2f5-4487-8f15-fcb2b5745444"
      },
      "execution_count": 7,
      "outputs": [
        {
          "output_type": "execute_result",
          "data": {
            "text/plain": [
              "19.4"
            ]
          },
          "metadata": {},
          "execution_count": 7
        }
      ]
    },
    {
      "cell_type": "code",
      "source": [
        "mixed[0:3]"
      ],
      "metadata": {
        "colab": {
          "base_uri": "https://localhost:8080/"
        },
        "id": "zCzOIqGmPpDB",
        "outputId": "97d22a96-301a-41f7-90ac-92b27cd37a00"
      },
      "execution_count": 9,
      "outputs": [
        {
          "output_type": "execute_result",
          "data": {
            "text/plain": [
              "[1, 'cat', 19.4]"
            ]
          },
          "metadata": {},
          "execution_count": 9
        }
      ]
    },
    {
      "cell_type": "code",
      "source": [
        "mixed[-1] # Accesses last entry of the list"
      ],
      "metadata": {
        "colab": {
          "base_uri": "https://localhost:8080/"
        },
        "id": "NTU3TyToP5iK",
        "outputId": "1531cdd9-8d3a-44a5-9798-cb17c9c68155"
      },
      "execution_count": 10,
      "outputs": [
        {
          "output_type": "execute_result",
          "data": {
            "text/plain": [
              "True"
            ]
          },
          "metadata": {},
          "execution_count": 10
        }
      ]
    },
    {
      "cell_type": "code",
      "source": [
        "mixed[-2] #the second last entry of the list"
      ],
      "metadata": {
        "colab": {
          "base_uri": "https://localhost:8080/"
        },
        "id": "4DloHTROQAJg",
        "outputId": "c4618baf-8a0b-418f-e75a-30daa83dca0a"
      },
      "execution_count": 11,
      "outputs": [
        {
          "output_type": "execute_result",
          "data": {
            "text/plain": [
              "19.4"
            ]
          },
          "metadata": {},
          "execution_count": 11
        }
      ]
    },
    {
      "cell_type": "code",
      "source": [
        "mixed[:2]"
      ],
      "metadata": {
        "colab": {
          "base_uri": "https://localhost:8080/"
        },
        "id": "6TaN_CjVQGzh",
        "outputId": "9450bcd7-844a-4181-8f70-1b29f865ff44"
      },
      "execution_count": 12,
      "outputs": [
        {
          "output_type": "execute_result",
          "data": {
            "text/plain": [
              "[1, 'cat']"
            ]
          },
          "metadata": {},
          "execution_count": 12
        }
      ]
    },
    {
      "cell_type": "markdown",
      "source": [
        "### Mutability of lists\n",
        "\n",
        "- lists are mutable - can be modified after creation, unlike strings"
      ],
      "metadata": {
        "id": "I_KxlXOaQ_8O"
      }
    },
    {
      "cell_type": "code",
      "source": [
        "animals = ['jogoo', 'mwera', 'kuku', 'sungura']\n",
        "print(animals)\n",
        "animals[2] = 'bata'\n",
        "print(animals)"
      ],
      "metadata": {
        "colab": {
          "base_uri": "https://localhost:8080/"
        },
        "id": "b-tvSrVQRFyV",
        "outputId": "5d57ab08-49d4-49bf-a226-6c7338b2c381"
      },
      "execution_count": 13,
      "outputs": [
        {
          "output_type": "stream",
          "name": "stdout",
          "text": [
            "['jogoo', 'mwera', 'kuku', 'sungura']\n",
            "['jogoo', 'mwera', 'bata', 'sungura']\n"
          ]
        }
      ]
    },
    {
      "cell_type": "code",
      "source": [
        "animals[-1] = 'Birds names in Kiswahili'\n",
        "print(animals)"
      ],
      "metadata": {
        "colab": {
          "base_uri": "https://localhost:8080/"
        },
        "id": "dJ5VcR2jRyAe",
        "outputId": "c7559395-7add-4a5d-fa08-f2a1a1815e3e"
      },
      "execution_count": 14,
      "outputs": [
        {
          "output_type": "stream",
          "name": "stdout",
          "text": [
            "['jogoo', 'mwera', 'bata', 'Birds names in Kiswahili']\n"
          ]
        }
      ]
    },
    {
      "cell_type": "markdown",
      "source": [
        "### Common Lists Methods\n",
        "\n",
        "Method in Python is a function that is associated with an object and can be called on that object.\n",
        "\n",
        "Methods are very similar to functions but they are called using a **dot notation** e.g. `object.method()` and often operate on the object they belong to.\n",
        "\n",
        "Common list methods include:\n",
        "\n",
        "1. `append(item)` - add the item to the end of the list\n",
        "2. `insert(index, item)` - inserts an item at a specified index\n",
        "3. `remove(item)` - Removes the first occurence of item\n",
        "4. `pop([index])` - Removes and returns the element at index (default: last element)\n",
        "5. `extend(iterable)` - Adds all the elements from the iterable (e.g. another list) to the list"
      ],
      "metadata": {
        "id": "nlyaUGyCS5DK"
      }
    },
    {
      "cell_type": "code",
      "source": [
        "fruits = ['orange', 'mango', 'peach', 'guava']\n",
        "fruits.append('pineapple')\n",
        "print(fruits)\n"
      ],
      "metadata": {
        "colab": {
          "base_uri": "https://localhost:8080/"
        },
        "id": "aiZxNGs-T-IU",
        "outputId": "7b4b1953-9d82-4fb7-a794-740a08294f2d"
      },
      "execution_count": 16,
      "outputs": [
        {
          "output_type": "stream",
          "name": "stdout",
          "text": [
            "['orange', 'mango', 'peach', 'guava', 'pineapple']\n"
          ]
        }
      ]
    },
    {
      "cell_type": "code",
      "source": [
        "fruits.insert(2, 'banana')\n",
        "print(fruits)"
      ],
      "metadata": {
        "colab": {
          "base_uri": "https://localhost:8080/"
        },
        "id": "7qrsD9LpU_5e",
        "outputId": "5c891c7e-c693-4abe-9e7d-7fb92cd8bf75"
      },
      "execution_count": 17,
      "outputs": [
        {
          "output_type": "stream",
          "name": "stdout",
          "text": [
            "['orange', 'mango', 'banana', 'peach', 'guava', 'pineapple']\n"
          ]
        }
      ]
    },
    {
      "cell_type": "code",
      "source": [
        "fruits.remove('guava')\n",
        "print(fruits)"
      ],
      "metadata": {
        "colab": {
          "base_uri": "https://localhost:8080/"
        },
        "id": "bOTwsHJlVaCt",
        "outputId": "16303424-4702-42d0-8fba-1b4ae4c15454"
      },
      "execution_count": 18,
      "outputs": [
        {
          "output_type": "stream",
          "name": "stdout",
          "text": [
            "['orange', 'mango', 'banana', 'peach', 'pineapple']\n"
          ]
        }
      ]
    },
    {
      "cell_type": "code",
      "source": [
        "fruits.pop(3)\n",
        "print(fruits)"
      ],
      "metadata": {
        "colab": {
          "base_uri": "https://localhost:8080/"
        },
        "id": "-GtTzKBmV48X",
        "outputId": "4595703d-44e7-41d2-e45f-27cdcacf47aa"
      },
      "execution_count": 21,
      "outputs": [
        {
          "output_type": "stream",
          "name": "stdout",
          "text": [
            "['orange', 'mango', 'banana']\n"
          ]
        }
      ]
    },
    {
      "cell_type": "code",
      "source": [
        "mediterranean_fruits = ['tomato', 'blackberry', 'pear']\n",
        "fruits.extend(mediterranean_fruits)\n",
        "print(fruits)"
      ],
      "metadata": {
        "colab": {
          "base_uri": "https://localhost:8080/"
        },
        "id": "AMQgWPncWnSx",
        "outputId": "8c9e3e8b-8668-4d9f-cc0a-dd450279bb48"
      },
      "execution_count": 22,
      "outputs": [
        {
          "output_type": "stream",
          "name": "stdout",
          "text": [
            "['orange', 'mango', 'banana', 'tomato', 'blackberry', 'pear']\n"
          ]
        }
      ]
    },
    {
      "cell_type": "markdown",
      "source": [
        "### Information Methods in Lists\n",
        "\n",
        "They retrieve information about the list but do not modify them. Examples:\n",
        "\n",
        "1. `count(item)` - returns the number of times `item` appears on the list\n",
        "\n",
        "2. `index(item)` - returns the index of the first occurence of the item.\n",
        "\n",
        "3. `sort()` - sorts the list in ascending order.\n",
        "\n",
        "4. `reverse()` - reverses the order of elements in the list"
      ],
      "metadata": {
        "id": "C1-TtFa7W8es"
      }
    },
    {
      "cell_type": "code",
      "source": [
        "vegetables = ['kales', 'brocolli', 'spinach', 'kales',\n",
        "              'cabbage', 'asparagus']\n",
        "print(vegetables.count('kales'))"
      ],
      "metadata": {
        "colab": {
          "base_uri": "https://localhost:8080/"
        },
        "id": "qnLRkarpXfyt",
        "outputId": "31b05ba7-f620-4727-8b9a-a31148f8419e"
      },
      "execution_count": 23,
      "outputs": [
        {
          "output_type": "stream",
          "name": "stdout",
          "text": [
            "2\n"
          ]
        }
      ]
    },
    {
      "cell_type": "code",
      "source": [
        "vegetables.index('spinach')"
      ],
      "metadata": {
        "colab": {
          "base_uri": "https://localhost:8080/"
        },
        "id": "u_SjlANpYIGf",
        "outputId": "bd948a18-cf92-45a6-b510-6f5c4034ed22"
      },
      "execution_count": 24,
      "outputs": [
        {
          "output_type": "execute_result",
          "data": {
            "text/plain": [
              "2"
            ]
          },
          "metadata": {},
          "execution_count": 24
        }
      ]
    },
    {
      "cell_type": "code",
      "source": [
        "vegetables.sort()\n",
        "vegetables"
      ],
      "metadata": {
        "colab": {
          "base_uri": "https://localhost:8080/"
        },
        "id": "bad-dW-SYkCs",
        "outputId": "dc9ff43f-8c15-464f-e9c0-b00962c15bb0"
      },
      "execution_count": 31,
      "outputs": [
        {
          "output_type": "execute_result",
          "data": {
            "text/plain": [
              "['asparagus', 'brocolli', 'cabbage', 'kales', 'kales', 'spinach']"
            ]
          },
          "metadata": {},
          "execution_count": 31
        }
      ]
    },
    {
      "cell_type": "code",
      "source": [
        "age = [31, 28, 25, 33, 29]\n",
        "age.sort()\n",
        "age"
      ],
      "metadata": {
        "colab": {
          "base_uri": "https://localhost:8080/"
        },
        "id": "Z8vI-YRCYt_9",
        "outputId": "8cd1a883-4379-4599-f1c4-547e18c47f3f"
      },
      "execution_count": 30,
      "outputs": [
        {
          "output_type": "execute_result",
          "data": {
            "text/plain": [
              "[25, 28, 29, 31, 33]"
            ]
          },
          "metadata": {},
          "execution_count": 30
        }
      ]
    },
    {
      "cell_type": "code",
      "source": [
        "vegetables.reverse()\n",
        "vegetables"
      ],
      "metadata": {
        "colab": {
          "base_uri": "https://localhost:8080/"
        },
        "id": "9Acoa8VDZe1G",
        "outputId": "07516f26-31f7-4c31-d0b7-fd8548ee841c"
      },
      "execution_count": 32,
      "outputs": [
        {
          "output_type": "execute_result",
          "data": {
            "text/plain": [
              "['spinach', 'kales', 'kales', 'cabbage', 'brocolli', 'asparagus']"
            ]
          },
          "metadata": {},
          "execution_count": 32
        }
      ]
    },
    {
      "cell_type": "markdown",
      "source": [
        "### List Copying\n",
        "Can be done using these 3 methods"
      ],
      "metadata": {
        "id": "uIBBWzASalt0"
      }
    },
    {
      "cell_type": "code",
      "source": [
        "animals = ['cat', 'donkey', 'horse', 'cow']\n",
        "\n",
        "backup1 = animals.copy() # Method 1\n",
        "print(backup1)\n",
        "\n",
        "backup2 = animals[:] # Method 2\n",
        "print(backup2)\n",
        "\n",
        "backup3 = list(animals) # Method 3\n",
        "print(backup3)"
      ],
      "metadata": {
        "colab": {
          "base_uri": "https://localhost:8080/"
        },
        "id": "9K20YLgWas7m",
        "outputId": "03736b59-2638-4d98-e195-900565c9ed90"
      },
      "execution_count": 34,
      "outputs": [
        {
          "output_type": "stream",
          "name": "stdout",
          "text": [
            "['cat', 'donkey', 'horse', 'cow']\n",
            "['cat', 'donkey', 'horse', 'cow']\n",
            "['cat', 'donkey', 'horse', 'cow']\n"
          ]
        }
      ]
    },
    {
      "cell_type": "markdown",
      "source": [
        "### Multidimensional list\n",
        "\n",
        "- Lists that contain other lists\n",
        "- Useful for matrices and tabular data"
      ],
      "metadata": {
        "id": "-5GOpDvUcKVh"
      }
    },
    {
      "cell_type": "code",
      "source": [
        "matrix = [[1, 2, 3],\n",
        "          [4, 5, 6],\n",
        "          [7, 8, 9]]\n",
        "\n",
        "print(matrix)\n",
        "\n",
        "matrix[2][2]"
      ],
      "metadata": {
        "colab": {
          "base_uri": "https://localhost:8080/"
        },
        "id": "OR8gswlUcXOm",
        "outputId": "2d70f1cc-967c-493a-dde8-295e15a1dedd"
      },
      "execution_count": 36,
      "outputs": [
        {
          "output_type": "stream",
          "name": "stdout",
          "text": [
            "[[1, 2, 3], [4, 5, 6], [7, 8, 9]]\n"
          ]
        },
        {
          "output_type": "execute_result",
          "data": {
            "text/plain": [
              "9"
            ]
          },
          "metadata": {},
          "execution_count": 36
        }
      ]
    },
    {
      "cell_type": "code",
      "source": [
        "# Create 3 * 4 2D list intialised by 0\n",
        "\n",
        "row, col = 3, 4\n",
        "\n",
        "matrix2 = [[0 for j in range(col)] for i in range(row)]\n",
        "matrix2"
      ],
      "metadata": {
        "colab": {
          "base_uri": "https://localhost:8080/"
        },
        "id": "3_d6yDemdDuj",
        "outputId": "47d884ac-c8c0-482c-fa40-0f8060f5fc5e"
      },
      "execution_count": 38,
      "outputs": [
        {
          "output_type": "execute_result",
          "data": {
            "text/plain": [
              "[[0, 0, 0, 0], [0, 0, 0, 0], [0, 0, 0, 0]]"
            ]
          },
          "metadata": {},
          "execution_count": 38
        }
      ]
    },
    {
      "cell_type": "markdown",
      "source": [
        "### List Comprehensions\n",
        "\n",
        "Consise way to create and transform lists\n",
        "\n",
        "More readable and sometimes faster than loops"
      ],
      "metadata": {
        "id": "CUI9hjZsefVK"
      }
    },
    {
      "cell_type": "code",
      "source": [
        "# Function and the not so cool way\n",
        "\n",
        "for x in range(10):\n",
        "    x_squared = x ** 2\n",
        "    print(x, x_squared)"
      ],
      "metadata": {
        "colab": {
          "base_uri": "https://localhost:8080/"
        },
        "id": "lLKB6zKrex41",
        "outputId": "f3c19a8f-ccdd-4f92-8c07-8bd9c4e9cf77"
      },
      "execution_count": 42,
      "outputs": [
        {
          "output_type": "stream",
          "name": "stdout",
          "text": [
            "0 0\n",
            "1 1\n",
            "2 4\n",
            "3 9\n",
            "4 16\n",
            "5 25\n",
            "6 36\n",
            "7 49\n",
            "8 64\n",
            "9 81\n"
          ]
        }
      ]
    },
    {
      "cell_type": "code",
      "source": [
        "# Rewrite using list comprehensions\n",
        "# Squares of numbers from 0-9\n",
        "\n",
        "square = [x ** 2 for x in range(10)]\n",
        "print(square)"
      ],
      "metadata": {
        "colab": {
          "base_uri": "https://localhost:8080/"
        },
        "id": "qGSqvC5nfl4V",
        "outputId": "c0669fdb-2777-4ba4-f00c-ca3d051f33d7"
      },
      "execution_count": 43,
      "outputs": [
        {
          "output_type": "stream",
          "name": "stdout",
          "text": [
            "[0, 1, 4, 9, 16, 25, 36, 49, 64, 81]\n"
          ]
        }
      ]
    },
    {
      "cell_type": "code",
      "source": [
        "# Even numbers between 0-9\n",
        "\n",
        "evens = [x for x in range(10) if x % 2 == 0] # % is for remainder calculation\n",
        "print(evens)"
      ],
      "metadata": {
        "colab": {
          "base_uri": "https://localhost:8080/"
        },
        "id": "EQfRssHfgHmC",
        "outputId": "f64342be-32c3-4993-b157-0080bb372ca4"
      },
      "execution_count": 44,
      "outputs": [
        {
          "output_type": "stream",
          "name": "stdout",
          "text": [
            "[0, 2, 4, 6, 8]\n"
          ]
        }
      ]
    },
    {
      "cell_type": "code",
      "source": [
        "# Convert strings to uppercase\n",
        "\n",
        "colors = [\"orange\", \"red\", \"green\", \"blue\"]\n",
        "upper_colors = [color.upper() for color in colors]\n",
        "print(upper_colors)"
      ],
      "metadata": {
        "colab": {
          "base_uri": "https://localhost:8080/"
        },
        "id": "mLhjexaJg1p3",
        "outputId": "e0b9c484-e5b0-4124-fbbc-0b88e68853cd"
      },
      "execution_count": 45,
      "outputs": [
        {
          "output_type": "stream",
          "name": "stdout",
          "text": [
            "['ORANGE', 'RED', 'GREEN', 'BLUE']\n"
          ]
        }
      ]
    }
  ]
}